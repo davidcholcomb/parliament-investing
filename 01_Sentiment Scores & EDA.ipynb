{
 "cells": [
  {
   "cell_type": "markdown",
   "metadata": {},
   "source": [
    "# Sentiment Scores and EDA"
   ]
  },
  {
   "cell_type": "markdown",
   "metadata": {},
   "source": [
    "## Imports"
   ]
  },
  {
   "cell_type": "code",
   "execution_count": 1,
   "metadata": {},
   "outputs": [],
   "source": [
    "import matplotlib.pyplot as plt\n",
    "import pandas as pd\n",
    "import seaborn as sns\n",
    "import numpy as np\n",
    "import re\n",
    "\n",
    "from nltk.sentiment.vader import SentimentIntensityAnalyzer\n",
    "      \n",
    "from nltk.tokenize import sent_tokenize, word_tokenize, RegexpTokenizer\n",
    "from nltk.stem import WordNetLemmatizer\n",
    "from nltk.stem.porter import PorterStemmer\n",
    "from nltk.corpus import stopwords\n",
    "from nltk.sentiment.vader import SentimentIntensityAnalyzer\n",
    "\n",
    "# easier to see full text with a bigger maxwidth:\n",
    "pd.options.display.max_colwidth = 200"
   ]
  },
  {
   "cell_type": "code",
   "execution_count": 2,
   "metadata": {},
   "outputs": [],
   "source": [
    "df_combined = pd.read_csv('./data/combined.csv')"
   ]
  },
  {
   "cell_type": "code",
   "execution_count": 3,
   "metadata": {},
   "outputs": [
    {
     "data": {
      "text/plain": [
       "(25288, 10)"
      ]
     },
     "execution_count": 3,
     "metadata": {},
     "output_type": "execute_result"
    }
   ],
   "source": [
    "df_combined.shape"
   ]
  },
  {
   "cell_type": "code",
   "execution_count": 4,
   "metadata": {},
   "outputs": [],
   "source": [
    "df_combined['is_wsb'] = df_combined['subreddit'].map({'investing' : 0, 'wallstreetbets' : 1})"
   ]
  },
  {
   "cell_type": "code",
   "execution_count": 5,
   "metadata": {
    "scrolled": true
   },
   "outputs": [],
   "source": [
    "post_text = df_combined[['selftext', 'subreddit']]"
   ]
  },
  {
   "cell_type": "code",
   "execution_count": 6,
   "metadata": {},
   "outputs": [],
   "source": [
    "corpus = list(post_text['selftext'])"
   ]
  },
  {
   "cell_type": "code",
   "execution_count": 7,
   "metadata": {},
   "outputs": [
    {
     "data": {
      "text/plain": [
       "({'neg': 0.067, 'neu': 0.825, 'pos': 0.108, 'compound': 0.9437},\n",
       " {'neg': 0.026, 'neu': 0.863, 'pos': 0.111, 'compound': 0.9261})"
      ]
     },
     "execution_count": 7,
     "metadata": {},
     "output_type": "execute_result"
    }
   ],
   "source": [
    "#instantiate SIA\n",
    "sia = SentimentIntensityAnalyzer()\n",
    "\n",
    "#Get polarity scores for the first and last post\n",
    "sia.polarity_scores(corpus[0]), sia.polarity_scores(corpus[-1])"
   ]
  },
  {
   "cell_type": "code",
   "execution_count": 8,
   "metadata": {
    "scrolled": true
   },
   "outputs": [
    {
     "data": {
      "text/html": [
       "<div>\n",
       "<style scoped>\n",
       "    .dataframe tbody tr th:only-of-type {\n",
       "        vertical-align: middle;\n",
       "    }\n",
       "\n",
       "    .dataframe tbody tr th {\n",
       "        vertical-align: top;\n",
       "    }\n",
       "\n",
       "    .dataframe thead th {\n",
       "        text-align: right;\n",
       "    }\n",
       "</style>\n",
       "<table border=\"1\" class=\"dataframe\">\n",
       "  <thead>\n",
       "    <tr style=\"text-align: right;\">\n",
       "      <th></th>\n",
       "      <th>neg</th>\n",
       "      <th>neu</th>\n",
       "      <th>pos</th>\n",
       "      <th>compound</th>\n",
       "      <th>selftext</th>\n",
       "    </tr>\n",
       "  </thead>\n",
       "  <tbody>\n",
       "    <tr>\n",
       "      <th>0</th>\n",
       "      <td>0.067</td>\n",
       "      <td>0.825</td>\n",
       "      <td>0.108</td>\n",
       "      <td>0.9437</td>\n",
       "      <td>Jeremy Grantham, a value investor, [warned his clients that he finally start seeing bubbles forming in parts of the market and it would burst any time soon.](https://www.gmo.com/asia/research-libr...</td>\n",
       "    </tr>\n",
       "    <tr>\n",
       "      <th>1</th>\n",
       "      <td>0.092</td>\n",
       "      <td>0.780</td>\n",
       "      <td>0.127</td>\n",
       "      <td>0.5573</td>\n",
       "      <td>I feel like an utter scumbag for posting this, as I’m pretty sure there have been plenty of other people asking about this, or I’m just in for the hype but I’m actually really curious now.\\n\\nHow ...</td>\n",
       "    </tr>\n",
       "    <tr>\n",
       "      <th>2</th>\n",
       "      <td>0.059</td>\n",
       "      <td>0.688</td>\n",
       "      <td>0.254</td>\n",
       "      <td>0.9365</td>\n",
       "      <td>Hi, I recently downloaded Trading 212 intending to invest in multiple different companies like Tesla etc, but I dont understand how to properly invest in the stocks and how to tell which stocks ar...</td>\n",
       "    </tr>\n",
       "    <tr>\n",
       "      <th>3</th>\n",
       "      <td>0.056</td>\n",
       "      <td>0.911</td>\n",
       "      <td>0.032</td>\n",
       "      <td>-0.4304</td>\n",
       "      <td>I have a 401K plan with employer matching.  Planning on maxing out the 401K contribution limit.\\n\\nI also have a Roth IRA account, which I already maxed out its contribution limit.\\n\\nI don't like...</td>\n",
       "    </tr>\n",
       "    <tr>\n",
       "      <th>4</th>\n",
       "      <td>0.068</td>\n",
       "      <td>0.809</td>\n",
       "      <td>0.123</td>\n",
       "      <td>0.9011</td>\n",
       "      <td>As the news of massive gains in GME has rocked the investing world, it begs the question: is value investing dead and is a \"join a giant group chat of pump-and-dump enthusiasts\" the future for the...</td>\n",
       "    </tr>\n",
       "  </tbody>\n",
       "</table>\n",
       "</div>"
      ],
      "text/plain": [
       "     neg    neu    pos  compound  \\\n",
       "0  0.067  0.825  0.108    0.9437   \n",
       "1  0.092  0.780  0.127    0.5573   \n",
       "2  0.059  0.688  0.254    0.9365   \n",
       "3  0.056  0.911  0.032   -0.4304   \n",
       "4  0.068  0.809  0.123    0.9011   \n",
       "\n",
       "                                                                                                                                                                                                  selftext  \n",
       "0  Jeremy Grantham, a value investor, [warned his clients that he finally start seeing bubbles forming in parts of the market and it would burst any time soon.](https://www.gmo.com/asia/research-libr...  \n",
       "1  I feel like an utter scumbag for posting this, as I’m pretty sure there have been plenty of other people asking about this, or I’m just in for the hype but I’m actually really curious now.\\n\\nHow ...  \n",
       "2  Hi, I recently downloaded Trading 212 intending to invest in multiple different companies like Tesla etc, but I dont understand how to properly invest in the stocks and how to tell which stocks ar...  \n",
       "3  I have a 401K plan with employer matching.  Planning on maxing out the 401K contribution limit.\\n\\nI also have a Roth IRA account, which I already maxed out its contribution limit.\\n\\nI don't like...  \n",
       "4  As the news of massive gains in GME has rocked the investing world, it begs the question: is value investing dead and is a \"join a giant group chat of pump-and-dump enthusiasts\" the future for the...  "
      ]
     },
     "execution_count": 8,
     "metadata": {},
     "output_type": "execute_result"
    }
   ],
   "source": [
    "sentiment = []    \n",
    "\n",
    "for post in corpus:\n",
    "    scores = sia.polarity_scores(str(post))\n",
    "    scores['selftext'] = post\n",
    "    sentiment.append(scores)\n",
    "\n",
    "df = pd.DataFrame(sentiment)\n",
    "df.head()"
   ]
  },
  {
   "cell_type": "code",
   "execution_count": 9,
   "metadata": {},
   "outputs": [],
   "source": [
    "df['target'] = df_combined['is_wsb'];"
   ]
  },
  {
   "cell_type": "markdown",
   "metadata": {},
   "source": [
    "### Top 5 most positive and most negative posts in r/wallstreetbets"
   ]
  },
  {
   "cell_type": "code",
   "execution_count": 10,
   "metadata": {},
   "outputs": [
    {
     "data": {
      "text/html": [
       "<div>\n",
       "<style scoped>\n",
       "    .dataframe tbody tr th:only-of-type {\n",
       "        vertical-align: middle;\n",
       "    }\n",
       "\n",
       "    .dataframe tbody tr th {\n",
       "        vertical-align: top;\n",
       "    }\n",
       "\n",
       "    .dataframe thead th {\n",
       "        text-align: right;\n",
       "    }\n",
       "</style>\n",
       "<table border=\"1\" class=\"dataframe\">\n",
       "  <thead>\n",
       "    <tr style=\"text-align: right;\">\n",
       "      <th></th>\n",
       "      <th>neg</th>\n",
       "      <th>neu</th>\n",
       "      <th>pos</th>\n",
       "      <th>compound</th>\n",
       "      <th>selftext</th>\n",
       "      <th>target</th>\n",
       "    </tr>\n",
       "  </thead>\n",
       "  <tbody>\n",
       "    <tr>\n",
       "      <th>20887</th>\n",
       "      <td>1.000</td>\n",
       "      <td>0.000</td>\n",
       "      <td>0.0</td>\n",
       "      <td>-0.1027</td>\n",
       "      <td>Nah</td>\n",
       "      <td>1</td>\n",
       "    </tr>\n",
       "    <tr>\n",
       "      <th>21422</th>\n",
       "      <td>1.000</td>\n",
       "      <td>0.000</td>\n",
       "      <td>0.0</td>\n",
       "      <td>-0.5574</td>\n",
       "      <td>BAN</td>\n",
       "      <td>1</td>\n",
       "    </tr>\n",
       "    <tr>\n",
       "      <th>13929</th>\n",
       "      <td>1.000</td>\n",
       "      <td>0.000</td>\n",
       "      <td>0.0</td>\n",
       "      <td>-0.1779</td>\n",
       "      <td>seriously</td>\n",
       "      <td>1</td>\n",
       "    </tr>\n",
       "    <tr>\n",
       "      <th>24506</th>\n",
       "      <td>0.989</td>\n",
       "      <td>0.011</td>\n",
       "      <td>0.0</td>\n",
       "      <td>-0.9996</td>\n",
       "      <td>WTF WTF WTF WTF WTF WTF WTF WTF WTF WTF WTF WTF WTF WTF WTF WTF WTF WTF WTF WTF WTF WTF WTF WTF WTF WTF WTF WTF WTF WTF WTF WTF WTF WTF WTF WTF WTF WTF WTF WTF \\n\\nMy calls :(</td>\n",
       "      <td>1</td>\n",
       "    </tr>\n",
       "    <tr>\n",
       "      <th>15452</th>\n",
       "      <td>0.860</td>\n",
       "      <td>0.140</td>\n",
       "      <td>0.0</td>\n",
       "      <td>-0.9995</td>\n",
       "      <td>Fuck this shit Fuck this shit Fuck this shit Fuck this shit Fuck this shit Fuck this shit Fuck this shit Fuck this shit Fuck this shit Fuck this shit Fuck this shit Fuck this shit Fuck this shit F...</td>\n",
       "      <td>1</td>\n",
       "    </tr>\n",
       "  </tbody>\n",
       "</table>\n",
       "</div>"
      ],
      "text/plain": [
       "         neg    neu  pos  compound  \\\n",
       "20887  1.000  0.000  0.0   -0.1027   \n",
       "21422  1.000  0.000  0.0   -0.5574   \n",
       "13929  1.000  0.000  0.0   -0.1779   \n",
       "24506  0.989  0.011  0.0   -0.9996   \n",
       "15452  0.860  0.140  0.0   -0.9995   \n",
       "\n",
       "                                                                                                                                                                                                      selftext  \\\n",
       "20887                                                                                                                                                                                                      Nah   \n",
       "21422                                                                                                                                                                                                      BAN   \n",
       "13929                                                                                                                                                                                                seriously   \n",
       "24506                          WTF WTF WTF WTF WTF WTF WTF WTF WTF WTF WTF WTF WTF WTF WTF WTF WTF WTF WTF WTF WTF WTF WTF WTF WTF WTF WTF WTF WTF WTF WTF WTF WTF WTF WTF WTF WTF WTF WTF WTF \\n\\nMy calls :(   \n",
       "15452  Fuck this shit Fuck this shit Fuck this shit Fuck this shit Fuck this shit Fuck this shit Fuck this shit Fuck this shit Fuck this shit Fuck this shit Fuck this shit Fuck this shit Fuck this shit F...   \n",
       "\n",
       "       target  \n",
       "20887       1  \n",
       "21422       1  \n",
       "13929       1  \n",
       "24506       1  \n",
       "15452       1  "
      ]
     },
     "execution_count": 10,
     "metadata": {},
     "output_type": "execute_result"
    }
   ],
   "source": [
    "df1 = df[df['target'] == 1]\n",
    "df1.sort_values(by='neg', ascending=False).head()"
   ]
  },
  {
   "cell_type": "code",
   "execution_count": 11,
   "metadata": {},
   "outputs": [
    {
     "data": {
      "text/html": [
       "<div>\n",
       "<style scoped>\n",
       "    .dataframe tbody tr th:only-of-type {\n",
       "        vertical-align: middle;\n",
       "    }\n",
       "\n",
       "    .dataframe tbody tr th {\n",
       "        vertical-align: top;\n",
       "    }\n",
       "\n",
       "    .dataframe thead th {\n",
       "        text-align: right;\n",
       "    }\n",
       "</style>\n",
       "<table border=\"1\" class=\"dataframe\">\n",
       "  <thead>\n",
       "    <tr style=\"text-align: right;\">\n",
       "      <th></th>\n",
       "      <th>neg</th>\n",
       "      <th>neu</th>\n",
       "      <th>pos</th>\n",
       "      <th>compound</th>\n",
       "      <th>selftext</th>\n",
       "      <th>target</th>\n",
       "    </tr>\n",
       "  </thead>\n",
       "  <tbody>\n",
       "    <tr>\n",
       "      <th>14105</th>\n",
       "      <td>0.0</td>\n",
       "      <td>0.000</td>\n",
       "      <td>1.000</td>\n",
       "      <td>0.2732</td>\n",
       "      <td>Yolo?</td>\n",
       "      <td>1</td>\n",
       "    </tr>\n",
       "    <tr>\n",
       "      <th>15451</th>\n",
       "      <td>0.0</td>\n",
       "      <td>0.000</td>\n",
       "      <td>1.000</td>\n",
       "      <td>0.6124</td>\n",
       "      <td>Please help</td>\n",
       "      <td>1</td>\n",
       "    </tr>\n",
       "    <tr>\n",
       "      <th>13108</th>\n",
       "      <td>0.0</td>\n",
       "      <td>0.000</td>\n",
       "      <td>1.000</td>\n",
       "      <td>0.7430</td>\n",
       "      <td>Happy Holidays</td>\n",
       "      <td>1</td>\n",
       "    </tr>\n",
       "    <tr>\n",
       "      <th>16643</th>\n",
       "      <td>0.0</td>\n",
       "      <td>0.199</td>\n",
       "      <td>0.801</td>\n",
       "      <td>0.9949</td>\n",
       "      <td>&amp;amp;#x200B;\\n\\n[Too short for mods so, GOD BLESS JPOW](https://preview.redd.it/lf7y45fecmm51.png?width=591&amp;amp;format=png&amp;amp;auto=webp&amp;amp;s=f5e2e9afa91ecd25d3ad48c0f57f766ec43ead8e)\\n\\nGOD BLES...</td>\n",
       "      <td>1</td>\n",
       "    </tr>\n",
       "    <tr>\n",
       "      <th>13187</th>\n",
       "      <td>0.0</td>\n",
       "      <td>0.213</td>\n",
       "      <td>0.787</td>\n",
       "      <td>0.5719</td>\n",
       "      <td>Happy Christmas.</td>\n",
       "      <td>1</td>\n",
       "    </tr>\n",
       "  </tbody>\n",
       "</table>\n",
       "</div>"
      ],
      "text/plain": [
       "       neg    neu    pos  compound  \\\n",
       "14105  0.0  0.000  1.000    0.2732   \n",
       "15451  0.0  0.000  1.000    0.6124   \n",
       "13108  0.0  0.000  1.000    0.7430   \n",
       "16643  0.0  0.199  0.801    0.9949   \n",
       "13187  0.0  0.213  0.787    0.5719   \n",
       "\n",
       "                                                                                                                                                                                                      selftext  \\\n",
       "14105                                                                                                                                                                                                    Yolo?   \n",
       "15451                                                                                                                                                                                              Please help   \n",
       "13108                                                                                                                                                                                           Happy Holidays   \n",
       "16643  &amp;#x200B;\\n\\n[Too short for mods so, GOD BLESS JPOW](https://preview.redd.it/lf7y45fecmm51.png?width=591&amp;format=png&amp;auto=webp&amp;s=f5e2e9afa91ecd25d3ad48c0f57f766ec43ead8e)\\n\\nGOD BLES...   \n",
       "13187                                                                                                                                                                                         Happy Christmas.   \n",
       "\n",
       "       target  \n",
       "14105       1  \n",
       "15451       1  \n",
       "13108       1  \n",
       "16643       1  \n",
       "13187       1  "
      ]
     },
     "execution_count": 11,
     "metadata": {},
     "output_type": "execute_result"
    }
   ],
   "source": [
    "df1.sort_values(by='pos', ascending=False).head()"
   ]
  },
  {
   "cell_type": "markdown",
   "metadata": {},
   "source": [
    "### Top 5 most positive and most negative posts in r/investing"
   ]
  },
  {
   "cell_type": "code",
   "execution_count": 12,
   "metadata": {},
   "outputs": [],
   "source": [
    "df0 = df[df['target'] == 0]"
   ]
  },
  {
   "cell_type": "code",
   "execution_count": 13,
   "metadata": {},
   "outputs": [
    {
     "data": {
      "text/html": [
       "<div>\n",
       "<style scoped>\n",
       "    .dataframe tbody tr th:only-of-type {\n",
       "        vertical-align: middle;\n",
       "    }\n",
       "\n",
       "    .dataframe tbody tr th {\n",
       "        vertical-align: top;\n",
       "    }\n",
       "\n",
       "    .dataframe thead th {\n",
       "        text-align: right;\n",
       "    }\n",
       "</style>\n",
       "<table border=\"1\" class=\"dataframe\">\n",
       "  <thead>\n",
       "    <tr style=\"text-align: right;\">\n",
       "      <th></th>\n",
       "      <th>neg</th>\n",
       "      <th>neu</th>\n",
       "      <th>pos</th>\n",
       "      <th>compound</th>\n",
       "      <th>selftext</th>\n",
       "      <th>target</th>\n",
       "    </tr>\n",
       "  </thead>\n",
       "  <tbody>\n",
       "    <tr>\n",
       "      <th>8916</th>\n",
       "      <td>0.007</td>\n",
       "      <td>0.100</td>\n",
       "      <td>0.893</td>\n",
       "      <td>0.9998</td>\n",
       "      <td>Does folks invest with ETFs like VOO/VIX etx in there 401K account ,\\n\\nMy default goes to Dodge and Cox fund , wanted to know if I am missing some thing . \\n\\nTrying to make thsi post bigger \\n\\n...</td>\n",
       "      <td>0</td>\n",
       "    </tr>\n",
       "    <tr>\n",
       "      <th>9485</th>\n",
       "      <td>0.000</td>\n",
       "      <td>0.360</td>\n",
       "      <td>0.640</td>\n",
       "      <td>0.5502</td>\n",
       "      <td>Good read!   \\n\\n\\n [https://e-markets.nordea.com/article/59361/week-ahead-how-will-yield-curves-look-when-the-vaccine-is-ready?fbclid=IwAR1Sbz5Egjjc6zcUAcUv0McA4RZnzKC-L47Je\\_u1tpuGMzabEpBGL\\_pQ8...</td>\n",
       "      <td>0</td>\n",
       "    </tr>\n",
       "    <tr>\n",
       "      <th>7691</th>\n",
       "      <td>0.000</td>\n",
       "      <td>0.545</td>\n",
       "      <td>0.455</td>\n",
       "      <td>0.8176</td>\n",
       "      <td>8 Best Investment Apps of 2020 | Free Stock Trading and Investing\\n\\n[http://gtechbots.com/article/8-best-investment-apps-of-2020-free-stock-trading-and-investing](http://gtechbots.com/article/8-b...</td>\n",
       "      <td>0</td>\n",
       "    </tr>\n",
       "    <tr>\n",
       "      <th>475</th>\n",
       "      <td>0.000</td>\n",
       "      <td>0.554</td>\n",
       "      <td>0.446</td>\n",
       "      <td>0.9793</td>\n",
       "      <td>**Get $1000 Sent to Your Cash App!** \\n\\n&amp;amp;#x200B;\\n\\n[https://binfileoffer.com/show.php?l=0&amp;amp;u=350861&amp;amp;id=30781](https://binfileoffer.com/show.php?l=0&amp;amp;u=350861&amp;amp;id=30781)\\n\\n&amp;amp...</td>\n",
       "      <td>0</td>\n",
       "    </tr>\n",
       "    <tr>\n",
       "      <th>10419</th>\n",
       "      <td>0.000</td>\n",
       "      <td>0.569</td>\n",
       "      <td>0.431</td>\n",
       "      <td>0.9862</td>\n",
       "      <td>\\n\\nHello,\\n\\nI'd  like to follow a few firms that publish macro/asset allocation insights  so I can make better decisions.   I don't buy individual stocks, but  I'd like to gain knowledge about ...</td>\n",
       "      <td>0</td>\n",
       "    </tr>\n",
       "  </tbody>\n",
       "</table>\n",
       "</div>"
      ],
      "text/plain": [
       "         neg    neu    pos  compound  \\\n",
       "8916   0.007  0.100  0.893    0.9998   \n",
       "9485   0.000  0.360  0.640    0.5502   \n",
       "7691   0.000  0.545  0.455    0.8176   \n",
       "475    0.000  0.554  0.446    0.9793   \n",
       "10419  0.000  0.569  0.431    0.9862   \n",
       "\n",
       "                                                                                                                                                                                                      selftext  \\\n",
       "8916   Does folks invest with ETFs like VOO/VIX etx in there 401K account ,\\n\\nMy default goes to Dodge and Cox fund , wanted to know if I am missing some thing . \\n\\nTrying to make thsi post bigger \\n\\n...   \n",
       "9485   Good read!   \\n\\n\\n [https://e-markets.nordea.com/article/59361/week-ahead-how-will-yield-curves-look-when-the-vaccine-is-ready?fbclid=IwAR1Sbz5Egjjc6zcUAcUv0McA4RZnzKC-L47Je\\_u1tpuGMzabEpBGL\\_pQ8...   \n",
       "7691   8 Best Investment Apps of 2020 | Free Stock Trading and Investing\\n\\n[http://gtechbots.com/article/8-best-investment-apps-of-2020-free-stock-trading-and-investing](http://gtechbots.com/article/8-b...   \n",
       "475     **Get $1000 Sent to Your Cash App!** \\n\\n&amp;#x200B;\\n\\n[https://binfileoffer.com/show.php?l=0&amp;u=350861&amp;id=30781](https://binfileoffer.com/show.php?l=0&amp;u=350861&amp;id=30781)\\n\\n&amp...   \n",
       "10419   \\n\\nHello,\\n\\nI'd  like to follow a few firms that publish macro/asset allocation insights  so I can make better decisions.   I don't buy individual stocks, but  I'd like to gain knowledge about ...   \n",
       "\n",
       "       target  \n",
       "8916        0  \n",
       "9485        0  \n",
       "7691        0  \n",
       "475         0  \n",
       "10419       0  "
      ]
     },
     "execution_count": 13,
     "metadata": {},
     "output_type": "execute_result"
    }
   ],
   "source": [
    "df0.sort_values(by='pos', ascending = False).head()"
   ]
  },
  {
   "cell_type": "code",
   "execution_count": 14,
   "metadata": {},
   "outputs": [
    {
     "data": {
      "text/html": [
       "<div>\n",
       "<style scoped>\n",
       "    .dataframe tbody tr th:only-of-type {\n",
       "        vertical-align: middle;\n",
       "    }\n",
       "\n",
       "    .dataframe tbody tr th {\n",
       "        vertical-align: top;\n",
       "    }\n",
       "\n",
       "    .dataframe thead th {\n",
       "        text-align: right;\n",
       "    }\n",
       "</style>\n",
       "<table border=\"1\" class=\"dataframe\">\n",
       "  <thead>\n",
       "    <tr style=\"text-align: right;\">\n",
       "      <th></th>\n",
       "      <th>neg</th>\n",
       "      <th>neu</th>\n",
       "      <th>pos</th>\n",
       "      <th>compound</th>\n",
       "      <th>selftext</th>\n",
       "      <th>target</th>\n",
       "    </tr>\n",
       "  </thead>\n",
       "  <tbody>\n",
       "    <tr>\n",
       "      <th>4556</th>\n",
       "      <td>0.684</td>\n",
       "      <td>0.303</td>\n",
       "      <td>0.013</td>\n",
       "      <td>-0.9954</td>\n",
       "      <td>Would it be a good idea to start investing stock into that? I could see it exploding in the future. I'm not into Marijuana myself but I know it's a hit product.\\n\\nAny ideas of which ones to inves...</td>\n",
       "      <td>0</td>\n",
       "    </tr>\n",
       "    <tr>\n",
       "      <th>9143</th>\n",
       "      <td>0.441</td>\n",
       "      <td>0.498</td>\n",
       "      <td>0.061</td>\n",
       "      <td>-0.9886</td>\n",
       "      <td>I'm tired of being wrong 80% of the time, sick of market makers manipulating the system and taking my money. I can't hold my gains for shit and I'm feeling really suicidal even though I haven't lo...</td>\n",
       "      <td>0</td>\n",
       "    </tr>\n",
       "    <tr>\n",
       "      <th>12437</th>\n",
       "      <td>0.370</td>\n",
       "      <td>0.630</td>\n",
       "      <td>0.000</td>\n",
       "      <td>-0.9201</td>\n",
       "      <td>dw.com/en/former-wirecard-ceo-markus-braun-arrested/a-53905720\\n\\n&amp;gt;Prosecutors have arrested the former head of German payment services provider Wirecard on suspicion of accounting fraud and ma...</td>\n",
       "      <td>0</td>\n",
       "    </tr>\n",
       "    <tr>\n",
       "      <th>754</th>\n",
       "      <td>0.368</td>\n",
       "      <td>0.546</td>\n",
       "      <td>0.086</td>\n",
       "      <td>-0.9325</td>\n",
       "      <td>Money printing goes beyond control, looming foreclosure and eviction crisis, commercial real estate losing value, irrational stock market behavior, negative-yielding debt and on and on.\\n\\nGold wa...</td>\n",
       "      <td>0</td>\n",
       "    </tr>\n",
       "    <tr>\n",
       "      <th>7586</th>\n",
       "      <td>0.348</td>\n",
       "      <td>0.652</td>\n",
       "      <td>0.000</td>\n",
       "      <td>-0.7065</td>\n",
       "      <td>[https://www.wsj.com/articles/delta-to-use-frequent-flier-program-to-raise-6-5-billion-11600082314?mod=hp\\_lista\\_pos1](https://www.wsj.com/articles/delta-to-use-frequent-flier-program-to-raise-6-...</td>\n",
       "      <td>0</td>\n",
       "    </tr>\n",
       "  </tbody>\n",
       "</table>\n",
       "</div>"
      ],
      "text/plain": [
       "         neg    neu    pos  compound  \\\n",
       "4556   0.684  0.303  0.013   -0.9954   \n",
       "9143   0.441  0.498  0.061   -0.9886   \n",
       "12437  0.370  0.630  0.000   -0.9201   \n",
       "754    0.368  0.546  0.086   -0.9325   \n",
       "7586   0.348  0.652  0.000   -0.7065   \n",
       "\n",
       "                                                                                                                                                                                                      selftext  \\\n",
       "4556   Would it be a good idea to start investing stock into that? I could see it exploding in the future. I'm not into Marijuana myself but I know it's a hit product.\\n\\nAny ideas of which ones to inves...   \n",
       "9143   I'm tired of being wrong 80% of the time, sick of market makers manipulating the system and taking my money. I can't hold my gains for shit and I'm feeling really suicidal even though I haven't lo...   \n",
       "12437  dw.com/en/former-wirecard-ceo-markus-braun-arrested/a-53905720\\n\\n&gt;Prosecutors have arrested the former head of German payment services provider Wirecard on suspicion of accounting fraud and ma...   \n",
       "754    Money printing goes beyond control, looming foreclosure and eviction crisis, commercial real estate losing value, irrational stock market behavior, negative-yielding debt and on and on.\\n\\nGold wa...   \n",
       "7586   [https://www.wsj.com/articles/delta-to-use-frequent-flier-program-to-raise-6-5-billion-11600082314?mod=hp\\_lista\\_pos1](https://www.wsj.com/articles/delta-to-use-frequent-flier-program-to-raise-6-...   \n",
       "\n",
       "       target  \n",
       "4556        0  \n",
       "9143        0  \n",
       "12437       0  \n",
       "754         0  \n",
       "7586        0  "
      ]
     },
     "execution_count": 14,
     "metadata": {},
     "output_type": "execute_result"
    }
   ],
   "source": [
    "df0.sort_values(by='neg', ascending = False).head()"
   ]
  },
  {
   "cell_type": "code",
   "execution_count": 15,
   "metadata": {},
   "outputs": [
    {
     "data": {
      "text/html": [
       "<div>\n",
       "<style scoped>\n",
       "    .dataframe tbody tr th:only-of-type {\n",
       "        vertical-align: middle;\n",
       "    }\n",
       "\n",
       "    .dataframe tbody tr th {\n",
       "        vertical-align: top;\n",
       "    }\n",
       "\n",
       "    .dataframe thead th {\n",
       "        text-align: right;\n",
       "    }\n",
       "</style>\n",
       "<table border=\"1\" class=\"dataframe\">\n",
       "  <thead>\n",
       "    <tr style=\"text-align: right;\">\n",
       "      <th></th>\n",
       "      <th>pos</th>\n",
       "      <th>neg</th>\n",
       "      <th>compound</th>\n",
       "    </tr>\n",
       "    <tr>\n",
       "      <th>target</th>\n",
       "      <th></th>\n",
       "      <th></th>\n",
       "      <th></th>\n",
       "    </tr>\n",
       "  </thead>\n",
       "  <tbody>\n",
       "    <tr>\n",
       "      <th>0</th>\n",
       "      <td>0.115054</td>\n",
       "      <td>0.041526</td>\n",
       "      <td>0.533276</td>\n",
       "    </tr>\n",
       "    <tr>\n",
       "      <th>1</th>\n",
       "      <td>0.096471</td>\n",
       "      <td>0.071593</td>\n",
       "      <td>0.147065</td>\n",
       "    </tr>\n",
       "  </tbody>\n",
       "</table>\n",
       "</div>"
      ],
      "text/plain": [
       "             pos       neg  compound\n",
       "target                              \n",
       "0       0.115054  0.041526  0.533276\n",
       "1       0.096471  0.071593  0.147065"
      ]
     },
     "execution_count": 15,
     "metadata": {},
     "output_type": "execute_result"
    }
   ],
   "source": [
    "df.groupby('target').mean()[['pos', 'neg', 'compound']]"
   ]
  },
  {
   "cell_type": "code",
   "execution_count": 16,
   "metadata": {
    "scrolled": true
   },
   "outputs": [
    {
     "data": {
      "text/plain": [
       "Text(0.5, 0, 'Score')"
      ]
     },
     "execution_count": 16,
     "metadata": {},
     "output_type": "execute_result"
    },
    {
     "data": {
      "text/plain": [
       "<Figure size 864x360 with 0 Axes>"
      ]
     },
     "metadata": {},
     "output_type": "display_data"
    },
    {
     "data": {
      "image/png": "[encoded data removed]",
      "text/plain": [
       "<Figure size 432x288 with 1 Axes>"
      ]
     },
     "metadata": {
      "needs_background": "light"
     },
     "output_type": "display_data"
    }
   ],
   "source": [
    "plt.figure(figsize=(12,5))\n",
    "df.groupby('target').mean()[['pos', 'neg', 'compound']].plot(kind='barh')\n",
    "plt.title('Average Positive, Negative \\n& Compound Scores\\n', fontsize=15);\n",
    "plt.yticks([0, 1], ['r/investing', 'r/wallstreetbets'])\n",
    "plt.ylabel('')\n",
    "plt.xlabel('Score', fontsize=12.5)"
   ]
  },
  {
   "cell_type": "markdown",
   "metadata": {},
   "source": [
    "### Comments on VADER scores:\n",
    "\n",
    "The subreddit r/investing on a whole is more positive than r/wallstreetbets. They actually have similar average Positive scores, but the r/wallstreetbets subreddit has a higher negative score. On a whole, r/investing is very positive, with a mean compound score of about 0.53. R/wallstreetbets is still "
   ]
  },
  {
   "cell_type": "markdown",
   "metadata": {},
   "source": [
    "## r/Investing in Depth"
   ]
  },
  {
   "cell_type": "code",
   "execution_count": 83,
   "metadata": {},
   "outputs": [],
   "source": [
    "investing_stock_list = ['Vanguard', 'SPY', 'VIX', 'Index', 'AMZN', 'AAPL', 'FB', 'NFLX', 'GOOG']"
   ]
  },
  {
   "cell_type": "code",
   "execution_count": 84,
   "metadata": {},
   "outputs": [],
   "source": [
    "investing_top_list = []\n",
    "for stock in investing_stock_list:\n",
    "    investing_top_dict = {}\n",
    "    investing_top_dict[stock] = [i for i in df0['selftext'] if stock in str(i)]\n",
    "    investing_top_list.append(investing_top_dict)"
   ]
  },
  {
   "cell_type": "code",
   "execution_count": 85,
   "metadata": {},
   "outputs": [
    {
     "data": {
      "text/html": [
       "<div>\n",
       "<style scoped>\n",
       "    .dataframe tbody tr th:only-of-type {\n",
       "        vertical-align: middle;\n",
       "    }\n",
       "\n",
       "    .dataframe tbody tr th {\n",
       "        vertical-align: top;\n",
       "    }\n",
       "\n",
       "    .dataframe thead th {\n",
       "        text-align: right;\n",
       "    }\n",
       "</style>\n",
       "<table border=\"1\" class=\"dataframe\">\n",
       "  <thead>\n",
       "    <tr style=\"text-align: right;\">\n",
       "      <th></th>\n",
       "      <th>neg</th>\n",
       "      <th>neu</th>\n",
       "      <th>pos</th>\n",
       "      <th>compound</th>\n",
       "      <th>stock_name</th>\n",
       "    </tr>\n",
       "  </thead>\n",
       "  <tbody>\n",
       "    <tr>\n",
       "      <th>0</th>\n",
       "      <td>0.038</td>\n",
       "      <td>0.788</td>\n",
       "      <td>0.174</td>\n",
       "      <td>0.9496</td>\n",
       "      <td>Vanguard</td>\n",
       "    </tr>\n",
       "    <tr>\n",
       "      <th>1</th>\n",
       "      <td>0.000</td>\n",
       "      <td>0.880</td>\n",
       "      <td>0.120</td>\n",
       "      <td>0.9195</td>\n",
       "      <td>Vanguard</td>\n",
       "    </tr>\n",
       "    <tr>\n",
       "      <th>2</th>\n",
       "      <td>0.022</td>\n",
       "      <td>0.808</td>\n",
       "      <td>0.171</td>\n",
       "      <td>0.9573</td>\n",
       "      <td>Vanguard</td>\n",
       "    </tr>\n",
       "    <tr>\n",
       "      <th>3</th>\n",
       "      <td>0.017</td>\n",
       "      <td>0.841</td>\n",
       "      <td>0.142</td>\n",
       "      <td>0.9356</td>\n",
       "      <td>Vanguard</td>\n",
       "    </tr>\n",
       "    <tr>\n",
       "      <th>4</th>\n",
       "      <td>0.028</td>\n",
       "      <td>0.814</td>\n",
       "      <td>0.158</td>\n",
       "      <td>0.9823</td>\n",
       "      <td>Vanguard</td>\n",
       "    </tr>\n",
       "  </tbody>\n",
       "</table>\n",
       "</div>"
      ],
      "text/plain": [
       "     neg    neu    pos  compound stock_name\n",
       "0  0.038  0.788  0.174    0.9496   Vanguard\n",
       "1  0.000  0.880  0.120    0.9195   Vanguard\n",
       "2  0.022  0.808  0.171    0.9573   Vanguard\n",
       "3  0.017  0.841  0.142    0.9356   Vanguard\n",
       "4  0.028  0.814  0.158    0.9823   Vanguard"
      ]
     },
     "execution_count": 85,
     "metadata": {},
     "output_type": "execute_result"
    }
   ],
   "source": [
    "sentiment_investing=[]\n",
    "for i in range(len(investing_top_list)):\n",
    "    for a in investing_top_list[i].keys():\n",
    "\n",
    "        for post in investing_top_list[i][a]:\n",
    "            investing_post = {}\n",
    "            sia2 = SentimentIntensityAnalyzer()\n",
    "            investing_post['selftext'] = post    \n",
    "            investing_post = sia2.polarity_scores(str(post))\n",
    "            investing_post['stock_name'] = a\n",
    "            sentiment_investing.append(investing_post)\n",
    "\n",
    "\n",
    "df_investing_sent = pd.DataFrame(sentiment_investing)\n",
    "df_investing_sent.head()"
   ]
  },
  {
   "cell_type": "code",
   "execution_count": 86,
   "metadata": {},
   "outputs": [
    {
     "data": {
      "text/plain": [
       "(1313, 5)"
      ]
     },
     "execution_count": 86,
     "metadata": {},
     "output_type": "execute_result"
    }
   ],
   "source": [
    "df_investing_sent.shape"
   ]
  },
  {
   "cell_type": "code",
   "execution_count": 87,
   "metadata": {},
   "outputs": [
    {
     "data": {
      "text/plain": [
       "Text(0.5, 0, 'Score')"
      ]
     },
     "execution_count": 87,
     "metadata": {},
     "output_type": "execute_result"
    },
    {
     "data": {
      "image/png": "[encoded data removed]",
      "text/plain": [
       "<Figure size 864x360 with 1 Axes>"
      ]
     },
     "metadata": {
      "needs_background": "light"
     },
     "output_type": "display_data"
    }
   ],
   "source": [
    "plt.figure(figsize=(12,5))\n",
    "sns.histplot(data=df_investing_sent['stock_name'])\n",
    "plt.title('Number of Posts per Stock\\n', fontsize=15);\n",
    "# plt.xticks([0, 1, 2, 3, 4, 5, 6, 7, 8, 9], ['Gamestop', 'Nokia', 'BlackBerry', 'Tesla', 'Palantir', 'Apple', 'AMD', 'Bed Bath \\n& Beyond', 'SpaceX', 'Microsoft'], \n",
    "#           fontsize=10)\n",
    "plt.ylabel('Number of Posts', fontsize=12.5)\n",
    "plt.xlabel('Score', fontsize=12.5)"
   ]
  },
  {
   "cell_type": "markdown",
   "metadata": {},
   "source": [
    "### Sentiment Analysis of individual stocks"
   ]
  },
  {
   "cell_type": "code",
   "execution_count": 92,
   "metadata": {
    "scrolled": true
   },
   "outputs": [
    {
     "data": {
      "text/plain": [
       "Text(0.5, 0, 'Company or Fund')"
      ]
     },
     "execution_count": 92,
     "metadata": {},
     "output_type": "execute_result"
    },
    {
     "data": {
      "text/plain": [
       "<Figure size 864x360 with 0 Axes>"
      ]
     },
     "metadata": {},
     "output_type": "display_data"
    },
    {
     "data": {
      "image/png": "[encoded data removed]",
      "text/plain": [
       "<Figure size 432x288 with 1 Axes>"
      ]
     },
     "metadata": {
      "needs_background": "light"
     },
     "output_type": "display_data"
    }
   ],
   "source": [
    "plt.figure(figsize=(12,5))\n",
    "df_investing_sent.groupby('stock_name').mean()[['pos', 'neg', 'compound']].plot(kind='bar')\n",
    "plt.title('Average Positive, Negative \\n& Compound Scores\\n', fontsize=15);\n",
    "plt.xticks([0, 1, 2, 3, 4, 5, 6, 7, 8], ['Apple', 'Amazon', 'Facebook', 'Google', 'Index Funds', 'Netflix', 'SPY', 'VIX', 'Vanguard'])\n",
    "plt.ylabel('Scores', fontsize=12.5)\n",
    "plt.xlabel('Company or Fund', fontsize=12.5)"
   ]
  },
  {
   "cell_type": "markdown",
   "metadata": {},
   "source": [
    "Overall all the scores are really positive. The negative mean values are only about half the amount of positive ones.\n",
    "\n",
    "Note: I included the VIX here because it's a measure of market sentiment; so this positive score tells us that the subreddit feels positive about how the market feels about the overall market."
   ]
  },
  {
   "cell_type": "markdown",
   "metadata": {},
   "source": [
    "## r/Wallstreetbets in Depth\n"
   ]
  },
  {
   "cell_type": "code",
   "execution_count": 17,
   "metadata": {},
   "outputs": [],
   "source": [
    "wsb_stonk_list = ['GME', 'NOK', 'BB', 'TSLA', 'PLTR', 'AAPL', 'AMD', 'BBBY', 'SPCE', 'MSFT']"
   ]
  },
  {
   "cell_type": "code",
   "execution_count": 18,
   "metadata": {},
   "outputs": [],
   "source": [
    "wsb_top_list = []\n",
    "for stock in wsb_stonk_list:\n",
    "    wsb_top_dict = {}\n",
    "    wsb_top_dict[stock] = [i for i in df1['selftext'] if stock in str(i)]\n",
    "    wsb_top_list.append(wsb_top_dict)"
   ]
  },
  {
   "cell_type": "code",
   "execution_count": 56,
   "metadata": {
    "scrolled": true
   },
   "outputs": [
    {
     "data": {
      "text/html": [
       "<div>\n",
       "<style scoped>\n",
       "    .dataframe tbody tr th:only-of-type {\n",
       "        vertical-align: middle;\n",
       "    }\n",
       "\n",
       "    .dataframe tbody tr th {\n",
       "        vertical-align: top;\n",
       "    }\n",
       "\n",
       "    .dataframe thead th {\n",
       "        text-align: right;\n",
       "    }\n",
       "</style>\n",
       "<table border=\"1\" class=\"dataframe\">\n",
       "  <thead>\n",
       "    <tr style=\"text-align: right;\">\n",
       "      <th></th>\n",
       "      <th>neg</th>\n",
       "      <th>neu</th>\n",
       "      <th>pos</th>\n",
       "      <th>compound</th>\n",
       "      <th>stock_name</th>\n",
       "    </tr>\n",
       "  </thead>\n",
       "  <tbody>\n",
       "    <tr>\n",
       "      <th>0</th>\n",
       "      <td>0.092</td>\n",
       "      <td>0.780</td>\n",
       "      <td>0.127</td>\n",
       "      <td>0.5573</td>\n",
       "      <td>GME</td>\n",
       "    </tr>\n",
       "    <tr>\n",
       "      <th>1</th>\n",
       "      <td>0.068</td>\n",
       "      <td>0.809</td>\n",
       "      <td>0.123</td>\n",
       "      <td>0.9011</td>\n",
       "      <td>GME</td>\n",
       "    </tr>\n",
       "    <tr>\n",
       "      <th>2</th>\n",
       "      <td>0.124</td>\n",
       "      <td>0.784</td>\n",
       "      <td>0.093</td>\n",
       "      <td>-0.8372</td>\n",
       "      <td>GME</td>\n",
       "    </tr>\n",
       "    <tr>\n",
       "      <th>3</th>\n",
       "      <td>0.033</td>\n",
       "      <td>0.926</td>\n",
       "      <td>0.041</td>\n",
       "      <td>-0.0772</td>\n",
       "      <td>GME</td>\n",
       "    </tr>\n",
       "    <tr>\n",
       "      <th>4</th>\n",
       "      <td>0.000</td>\n",
       "      <td>0.965</td>\n",
       "      <td>0.035</td>\n",
       "      <td>0.3400</td>\n",
       "      <td>GME</td>\n",
       "    </tr>\n",
       "  </tbody>\n",
       "</table>\n",
       "</div>"
      ],
      "text/plain": [
       "     neg    neu    pos  compound stock_name\n",
       "0  0.092  0.780  0.127    0.5573        GME\n",
       "1  0.068  0.809  0.123    0.9011        GME\n",
       "2  0.124  0.784  0.093   -0.8372        GME\n",
       "3  0.033  0.926  0.041   -0.0772        GME\n",
       "4  0.000  0.965  0.035    0.3400        GME"
      ]
     },
     "execution_count": 56,
     "metadata": {},
     "output_type": "execute_result"
    }
   ],
   "source": [
    "sentiment_stock=[]\n",
    "for i in range(len(wsb_top_list)):\n",
    "    for a in wsb_top_list[i].keys():\n",
    "\n",
    "        for post in wsb_top_list[i][a]:\n",
    "            scores_post = {}\n",
    "            sia1 = SentimentIntensityAnalyzer()\n",
    "            scores_post['selftext'] = post    \n",
    "            scores_post = sia1.polarity_scores(str(post))\n",
    "            scores_post['stock_name'] = a\n",
    "            sentiment_stock.append(scores_post)\n",
    "\n",
    "\n",
    "df_stonks = pd.DataFrame(sentiment_stock)\n",
    "df_stonks.head()"
   ]
  },
  {
   "cell_type": "code",
   "execution_count": 57,
   "metadata": {},
   "outputs": [
    {
     "data": {
      "text/plain": [
       "(3068, 5)"
      ]
     },
     "execution_count": 57,
     "metadata": {},
     "output_type": "execute_result"
    }
   ],
   "source": [
    "df_stonks.shape"
   ]
  },
  {
   "cell_type": "markdown",
   "metadata": {},
   "source": [
    "### Histogram"
   ]
  },
  {
   "cell_type": "code",
   "execution_count": 70,
   "metadata": {
    "scrolled": true
   },
   "outputs": [
    {
     "data": {
      "text/plain": [
       "Text(0.5, 0, 'Score')"
      ]
     },
     "execution_count": 70,
     "metadata": {},
     "output_type": "execute_result"
    },
    {
     "data": {
      "image/png": "[encoded data removed]",
      "text/plain": [
       "<Figure size 864x360 with 1 Axes>"
      ]
     },
     "metadata": {
      "needs_background": "light"
     },
     "output_type": "display_data"
    }
   ],
   "source": [
    "plt.figure(figsize=(12,5))\n",
    "sns.histplot(data=df_stonks['stock_name'])\n",
    "plt.title('Number of Posts per Stock\\n', fontsize=15);\n",
    "plt.xticks([0, 1, 2, 3, 4, 5, 6, 7, 8, 9], ['Gamestop', 'Nokia', 'BlackBerry', 'Tesla', 'Palantir', 'Apple', 'AMD', 'Bed Bath \\n& Beyond', 'SpaceX', 'Microsoft'], \n",
    "          fontsize=10)\n",
    "plt.ylabel('Number of Posts', fontsize=12.5)\n",
    "plt.xlabel('Score', fontsize=12.5)"
   ]
  },
  {
   "cell_type": "markdown",
   "metadata": {},
   "source": [
    "By far Tesla is the most mentioned public company on Wall Street Bets at time of scraping data."
   ]
  },
  {
   "cell_type": "markdown",
   "metadata": {},
   "source": [
    "### Sentiment Analysis of individual stocks"
   ]
  },
  {
   "cell_type": "code",
   "execution_count": 96,
   "metadata": {
    "scrolled": false
   },
   "outputs": [
    {
     "data": {
      "text/plain": [
       "Text(0.5, 0, 'Company')"
      ]
     },
     "execution_count": 96,
     "metadata": {},
     "output_type": "execute_result"
    },
    {
     "data": {
      "text/plain": [
       "<Figure size 864x360 with 0 Axes>"
      ]
     },
     "metadata": {},
     "output_type": "display_data"
    },
    {
     "data": {
      "image/png": "[encoded data removed]",
      "text/plain": [
       "<Figure size 432x288 with 1 Axes>"
      ]
     },
     "metadata": {
      "needs_background": "light"
     },
     "output_type": "display_data"
    }
   ],
   "source": [
    "plt.figure(figsize=(12,5))\n",
    "df_stonks.groupby('stock_name').mean()[['pos', 'neg', 'compound']].plot(kind='bar')\n",
    "plt.title('Average Positive, Negative \\n& Compound Scores\\n', fontsize=15);\n",
    "plt.xticks([0, 1, 2, 3, 4, 5, 6, 7, 8, 9], ['Apple', 'AMD', 'BlackBerry', 'Bed Bath \\n& Beyond', 'GameStop', 'Microsoft', 'Nokia', 'Palantir', 'SpaceX', 'Tesla'], rotation=90)\n",
    "plt.ylabel('Score', fontsize=12.5)\n",
    "plt.xlabel('Company', fontsize=12.5)"
   ]
  },
  {
   "cell_type": "markdown",
   "metadata": {},
   "source": [
    "Sentiment scores for this subreddit are still overall positive. However, the negatives are taller in comparison to the positive scores than in the r/investing subreddit. "
   ]
  },
  {
   "cell_type": "code",
   "execution_count": 97,
   "metadata": {},
   "outputs": [
    {
     "data": {
      "text/html": [
       "<div>\n",
       "<style scoped>\n",
       "    .dataframe tbody tr th:only-of-type {\n",
       "        vertical-align: middle;\n",
       "    }\n",
       "\n",
       "    .dataframe tbody tr th {\n",
       "        vertical-align: top;\n",
       "    }\n",
       "\n",
       "    .dataframe thead th {\n",
       "        text-align: right;\n",
       "    }\n",
       "</style>\n",
       "<table border=\"1\" class=\"dataframe\">\n",
       "  <thead>\n",
       "    <tr style=\"text-align: right;\">\n",
       "      <th></th>\n",
       "      <th>neg</th>\n",
       "      <th>neu</th>\n",
       "      <th>pos</th>\n",
       "      <th>compound</th>\n",
       "      <th>selftext</th>\n",
       "      <th>target</th>\n",
       "    </tr>\n",
       "  </thead>\n",
       "  <tbody>\n",
       "    <tr>\n",
       "      <th>0</th>\n",
       "      <td>0.067</td>\n",
       "      <td>0.825</td>\n",
       "      <td>0.108</td>\n",
       "      <td>0.9437</td>\n",
       "      <td>Jeremy Grantham, a value investor, [warned his clients that he finally start seeing bubbles forming in parts of the market and it would burst any time soon.](https://www.gmo.com/asia/research-libr...</td>\n",
       "      <td>0</td>\n",
       "    </tr>\n",
       "    <tr>\n",
       "      <th>1</th>\n",
       "      <td>0.092</td>\n",
       "      <td>0.780</td>\n",
       "      <td>0.127</td>\n",
       "      <td>0.5573</td>\n",
       "      <td>I feel like an utter scumbag for posting this, as I’m pretty sure there have been plenty of other people asking about this, or I’m just in for the hype but I’m actually really curious now.\\n\\nHow ...</td>\n",
       "      <td>0</td>\n",
       "    </tr>\n",
       "    <tr>\n",
       "      <th>2</th>\n",
       "      <td>0.059</td>\n",
       "      <td>0.688</td>\n",
       "      <td>0.254</td>\n",
       "      <td>0.9365</td>\n",
       "      <td>Hi, I recently downloaded Trading 212 intending to invest in multiple different companies like Tesla etc, but I dont understand how to properly invest in the stocks and how to tell which stocks ar...</td>\n",
       "      <td>0</td>\n",
       "    </tr>\n",
       "    <tr>\n",
       "      <th>3</th>\n",
       "      <td>0.056</td>\n",
       "      <td>0.911</td>\n",
       "      <td>0.032</td>\n",
       "      <td>-0.4304</td>\n",
       "      <td>I have a 401K plan with employer matching.  Planning on maxing out the 401K contribution limit.\\n\\nI also have a Roth IRA account, which I already maxed out its contribution limit.\\n\\nI don't like...</td>\n",
       "      <td>0</td>\n",
       "    </tr>\n",
       "    <tr>\n",
       "      <th>4</th>\n",
       "      <td>0.068</td>\n",
       "      <td>0.809</td>\n",
       "      <td>0.123</td>\n",
       "      <td>0.9011</td>\n",
       "      <td>As the news of massive gains in GME has rocked the investing world, it begs the question: is value investing dead and is a \"join a giant group chat of pump-and-dump enthusiasts\" the future for the...</td>\n",
       "      <td>0</td>\n",
       "    </tr>\n",
       "  </tbody>\n",
       "</table>\n",
       "</div>"
      ],
      "text/plain": [
       "     neg    neu    pos  compound  \\\n",
       "0  0.067  0.825  0.108    0.9437   \n",
       "1  0.092  0.780  0.127    0.5573   \n",
       "2  0.059  0.688  0.254    0.9365   \n",
       "3  0.056  0.911  0.032   -0.4304   \n",
       "4  0.068  0.809  0.123    0.9011   \n",
       "\n",
       "                                                                                                                                                                                                  selftext  \\\n",
       "0  Jeremy Grantham, a value investor, [warned his clients that he finally start seeing bubbles forming in parts of the market and it would burst any time soon.](https://www.gmo.com/asia/research-libr...   \n",
       "1  I feel like an utter scumbag for posting this, as I’m pretty sure there have been plenty of other people asking about this, or I’m just in for the hype but I’m actually really curious now.\\n\\nHow ...   \n",
       "2  Hi, I recently downloaded Trading 212 intending to invest in multiple different companies like Tesla etc, but I dont understand how to properly invest in the stocks and how to tell which stocks ar...   \n",
       "3  I have a 401K plan with employer matching.  Planning on maxing out the 401K contribution limit.\\n\\nI also have a Roth IRA account, which I already maxed out its contribution limit.\\n\\nI don't like...   \n",
       "4  As the news of massive gains in GME has rocked the investing world, it begs the question: is value investing dead and is a \"join a giant group chat of pump-and-dump enthusiasts\" the future for the...   \n",
       "\n",
       "   target  \n",
       "0       0  \n",
       "1       0  \n",
       "2       0  \n",
       "3       0  \n",
       "4       0  "
      ]
     },
     "execution_count": 97,
     "metadata": {},
     "output_type": "execute_result"
    }
   ],
   "source": [
    "df.head()"
   ]
  },
  {
   "cell_type": "markdown",
   "metadata": {},
   "source": [
    "### Saving Overall Sentiment Scores as CSV"
   ]
  },
  {
   "cell_type": "code",
   "execution_count": 99,
   "metadata": {},
   "outputs": [],
   "source": [
    "df.to_csv('./data/sentiment.csv', index=False, )"
   ]
  },
  {
   "cell_type": "code",
   "execution_count": null,
   "metadata": {},
   "outputs": [],
   "source": []
  }
 ],
 "metadata": {
  "kernelspec": {
   "display_name": "Python 3",
   "language": "python",
   "name": "python3"
  },
  "language_info": {
   "codemirror_mode": {
    "name": "ipython",
    "version": 3
   },
   "file_extension": ".py",
   "mimetype": "text/x-python",
   "name": "python",
   "nbconvert_exporter": "python",
   "pygments_lexer": "ipython3",
   "version": "3.8.5"
  }
 },
 "nbformat": 4,
 "nbformat_minor": 4
}
