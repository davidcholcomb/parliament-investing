{
 "cells": [
  {
   "cell_type": "markdown",
   "metadata": {},
   "source": [
    "## Imports"
   ]
  },
  {
   "cell_type": "code",
   "execution_count": 103,
   "metadata": {},
   "outputs": [],
   "source": [
    "import pandas as pd\n",
    "import datetime as dt\n",
    "import time\n",
    "import requests"
   ]
  },
  {
   "cell_type": "markdown",
   "metadata": {},
   "source": [
    "## Set ups"
   ]
  },
  {
   "cell_type": "code",
   "execution_count": null,
   "metadata": {},
   "outputs": [],
   "source": [
    "url = \"https://api.pushshift.io/reddit/search/submission?subreddit=boardgames\""
   ]
  },
  {
   "cell_type": "code",
   "execution_count": null,
   "metadata": {},
   "outputs": [],
   "source": [
    "res = requests.get(url)"
   ]
  },
  {
   "cell_type": "code",
   "execution_count": null,
   "metadata": {},
   "outputs": [],
   "source": [
    "res.status_code"
   ]
  },
  {
   "cell_type": "code",
   "execution_count": null,
   "metadata": {},
   "outputs": [],
   "source": [
    "assert res.status_code == 200"
   ]
  },
  {
   "cell_type": "code",
   "execution_count": null,
   "metadata": {},
   "outputs": [],
   "source": [
    "json_data = res.json()"
   ]
  },
  {
   "cell_type": "code",
   "execution_count": 27,
   "metadata": {},
   "outputs": [],
   "source": [
    "def query_pushshift(subreddit, kind = 'submission', day_window = 1, n = 400):\n",
    "    SUBFIELDS = ['title', 'selftext', 'subreddit', 'created_utc', 'author', 'num_comments', 'score', 'is_self']\n",
    "    \n",
    "    # establish base url and stem\n",
    "    BASE_URL = f\"https://api.pushshift.io/reddit/search/{kind}\" # also known as the \"API endpoint\" \n",
    "    stem = f\"{BASE_URL}?subreddit={subreddit}&is_video=false&size=500\" # always pulling max of 500\n",
    "    \n",
    "    # instantiate empty list for temp storage\n",
    "    posts = []\n",
    "    \n",
    "    # implement for loop with `time.sleep(2)`\n",
    "    for i in range(1, n + 1):\n",
    "        URL = \"{}&after={}d\".format(stem, day_window * i)\n",
    "        print(\"Querying from: \" + URL)\n",
    "        response = requests.get(URL)\n",
    "        assert response.status_code == 200\n",
    "        mine = response.json()['data']\n",
    "        df = pd.DataFrame.from_dict(mine)\n",
    "        posts.append(df)\n",
    "        time.sleep(2)\n",
    "    \n",
    "    # pd.concat storage list\n",
    "    full = pd.concat(posts, sort=False)\n",
    "    \n",
    "    # if submission\n",
    "    if kind == \"submission\":\n",
    "        # select desired columns\n",
    "        full = full[SUBFIELDS]\n",
    "        # drop duplicates\n",
    "        full.drop_duplicates(inplace = True)\n",
    "        # select `is_self` == True\n",
    "        full = full.loc[full['is_self'] == True]\n",
    "\n",
    "    # create `timestamp` column\n",
    "    full['timestamp'] = full[\"created_utc\"].map(dt.date.fromtimestamp)\n",
    "    \n",
    "    print(\"Query Complete!\")    \n",
    "    return full "
   ]
  },
  {
   "cell_type": "markdown",
   "metadata": {},
   "source": [
    "## Collecting data from r/wallstreetbets"
   ]
  },
  {
   "cell_type": "code",
   "execution_count": 28,
   "metadata": {},
   "outputs": [
    {
     "name": "stdout",
     "output_type": "stream",
     "text": [
      "Querying from: https://api.pushshift.io/reddit/search/submission?subreddit=wallstreetbets&is_video=false&size=500&after=1d\n",
      "Querying from: https://api.pushshift.io/reddit/search/submission?subreddit=wallstreetbets&is_video=false&size=500&after=2d\n",
      "Querying from: https://api.pushshift.io/reddit/search/submission?subreddit=wallstreetbets&is_video=false&size=500&after=3d\n",
      "Querying from: https://api.pushshift.io/reddit/search/submission?subreddit=wallstreetbets&is_video=false&size=500&after=4d\n",
      "Querying from: https://api.pushshift.io/reddit/search/submission?subreddit=wallstreetbets&is_video=false&size=500&after=5d\n",
      "Querying from: https://api.pushshift.io/reddit/search/submission?subreddit=wallstreetbets&is_video=false&size=500&after=6d\n",
      "Querying from: https://api.pushshift.io/reddit/search/submission?subreddit=wallstreetbets&is_video=false&size=500&after=7d\n",
      "Querying from: https://api.pushshift.io/reddit/search/submission?subreddit=wallstreetbets&is_video=false&size=500&after=8d\n",
      "Querying from: https://api.pushshift.io/reddit/search/submission?subreddit=wallstreetbets&is_video=false&size=500&after=9d\n",
      "Querying from: https://api.pushshift.io/reddit/search/submission?subreddit=wallstreetbets&is_video=false&size=500&after=10d\n",
      "Querying from: https://api.pushshift.io/reddit/search/submission?subreddit=wallstreetbets&is_video=false&size=500&after=11d\n",
      "Querying from: https://api.pushshift.io/reddit/search/submission?subreddit=wallstreetbets&is_video=false&size=500&after=12d\n",
      "Querying from: https://api.pushshift.io/reddit/search/submission?subreddit=wallstreetbets&is_video=false&size=500&after=13d\n",
      "Querying from: https://api.pushshift.io/reddit/search/submission?subreddit=wallstreetbets&is_video=false&size=500&after=14d\n",
      "Querying from: https://api.pushshift.io/reddit/search/submission?subreddit=wallstreetbets&is_video=false&size=500&after=15d\n",
      "Querying from: https://api.pushshift.io/reddit/search/submission?subreddit=wallstreetbets&is_video=false&size=500&after=16d\n",
      "Querying from: https://api.pushshift.io/reddit/search/submission?subreddit=wallstreetbets&is_video=false&size=500&after=17d\n",
      "Querying from: https://api.pushshift.io/reddit/search/submission?subreddit=wallstreetbets&is_video=false&size=500&after=18d\n",
      "Querying from: https://api.pushshift.io/reddit/search/submission?subreddit=wallstreetbets&is_video=false&size=500&after=19d\n",
      "Querying from: https://api.pushshift.io/reddit/search/submission?subreddit=wallstreetbets&is_video=false&size=500&after=20d\n",
      "Querying from: https://api.pushshift.io/reddit/search/submission?subreddit=wallstreetbets&is_video=false&size=500&after=21d\n",
      "Querying from: https://api.pushshift.io/reddit/search/submission?subreddit=wallstreetbets&is_video=false&size=500&after=22d\n",
      "Querying from: https://api.pushshift.io/reddit/search/submission?subreddit=wallstreetbets&is_video=false&size=500&after=23d\n",
      "Querying from: https://api.pushshift.io/reddit/search/submission?subreddit=wallstreetbets&is_video=false&size=500&after=24d\n",
      "Querying from: https://api.pushshift.io/reddit/search/submission?subreddit=wallstreetbets&is_video=false&size=500&after=25d\n",
      "Querying from: https://api.pushshift.io/reddit/search/submission?subreddit=wallstreetbets&is_video=false&size=500&after=26d\n",
      "Querying from: https://api.pushshift.io/reddit/search/submission?subreddit=wallstreetbets&is_video=false&size=500&after=27d\n",
      "Querying from: https://api.pushshift.io/reddit/search/submission?subreddit=wallstreetbets&is_video=false&size=500&after=28d\n",
      "Querying from: https://api.pushshift.io/reddit/search/submission?subreddit=wallstreetbets&is_video=false&size=500&after=29d\n",
      "Querying from: https://api.pushshift.io/reddit/search/submission?subreddit=wallstreetbets&is_video=false&size=500&after=30d\n",
      "Querying from: https://api.pushshift.io/reddit/search/submission?subreddit=wallstreetbets&is_video=false&size=500&after=31d\n",
      "Querying from: https://api.pushshift.io/reddit/search/submission?subreddit=wallstreetbets&is_video=false&size=500&after=32d\n",
      "Querying from: https://api.pushshift.io/reddit/search/submission?subreddit=wallstreetbets&is_video=false&size=500&after=33d\n",
      "Querying from: https://api.pushshift.io/reddit/search/submission?subreddit=wallstreetbets&is_video=false&size=500&after=34d\n",
      "Querying from: https://api.pushshift.io/reddit/search/submission?subreddit=wallstreetbets&is_video=false&size=500&after=35d\n",
      "Querying from: https://api.pushshift.io/reddit/search/submission?subreddit=wallstreetbets&is_video=false&size=500&after=36d\n",
      "Querying from: https://api.pushshift.io/reddit/search/submission?subreddit=wallstreetbets&is_video=false&size=500&after=37d\n",
      "Querying from: https://api.pushshift.io/reddit/search/submission?subreddit=wallstreetbets&is_video=false&size=500&after=38d\n",
      "Querying from: https://api.pushshift.io/reddit/search/submission?subreddit=wallstreetbets&is_video=false&size=500&after=39d\n",
      "Querying from: https://api.pushshift.io/reddit/search/submission?subreddit=wallstreetbets&is_video=false&size=500&after=40d\n",
      "Querying from: https://api.pushshift.io/reddit/search/submission?subreddit=wallstreetbets&is_video=false&size=500&after=41d\n",
      "Querying from: https://api.pushshift.io/reddit/search/submission?subreddit=wallstreetbets&is_video=false&size=500&after=42d\n",
      "Querying from: https://api.pushshift.io/reddit/search/submission?subreddit=wallstreetbets&is_video=false&size=500&after=43d\n",
      "Querying from: https://api.pushshift.io/reddit/search/submission?subreddit=wallstreetbets&is_video=false&size=500&after=44d\n",
      "Querying from: https://api.pushshift.io/reddit/search/submission?subreddit=wallstreetbets&is_video=false&size=500&after=45d\n",
      "Querying from: https://api.pushshift.io/reddit/search/submission?subreddit=wallstreetbets&is_video=false&size=500&after=46d\n",
      "Querying from: https://api.pushshift.io/reddit/search/submission?subreddit=wallstreetbets&is_video=false&size=500&after=47d\n",
      "Querying from: https://api.pushshift.io/reddit/search/submission?subreddit=wallstreetbets&is_video=false&size=500&after=48d\n",
      "Querying from: https://api.pushshift.io/reddit/search/submission?subreddit=wallstreetbets&is_video=false&size=500&after=49d\n",
      "Querying from: https://api.pushshift.io/reddit/search/submission?subreddit=wallstreetbets&is_video=false&size=500&after=50d\n",
      "Querying from: https://api.pushshift.io/reddit/search/submission?subreddit=wallstreetbets&is_video=false&size=500&after=51d\n",
      "Querying from: https://api.pushshift.io/reddit/search/submission?subreddit=wallstreetbets&is_video=false&size=500&after=52d\n",
      "Querying from: https://api.pushshift.io/reddit/search/submission?subreddit=wallstreetbets&is_video=false&size=500&after=53d\n",
      "Querying from: https://api.pushshift.io/reddit/search/submission?subreddit=wallstreetbets&is_video=false&size=500&after=54d\n",
      "Querying from: https://api.pushshift.io/reddit/search/submission?subreddit=wallstreetbets&is_video=false&size=500&after=55d\n",
      "Querying from: https://api.pushshift.io/reddit/search/submission?subreddit=wallstreetbets&is_video=false&size=500&after=56d\n",
      "Querying from: https://api.pushshift.io/reddit/search/submission?subreddit=wallstreetbets&is_video=false&size=500&after=57d\n",
      "Querying from: https://api.pushshift.io/reddit/search/submission?subreddit=wallstreetbets&is_video=false&size=500&after=58d\n",
      "Querying from: https://api.pushshift.io/reddit/search/submission?subreddit=wallstreetbets&is_video=false&size=500&after=59d\n",
      "Querying from: https://api.pushshift.io/reddit/search/submission?subreddit=wallstreetbets&is_video=false&size=500&after=60d\n",
      "Querying from: https://api.pushshift.io/reddit/search/submission?subreddit=wallstreetbets&is_video=false&size=500&after=61d\n",
      "Querying from: https://api.pushshift.io/reddit/search/submission?subreddit=wallstreetbets&is_video=false&size=500&after=62d\n",
      "Querying from: https://api.pushshift.io/reddit/search/submission?subreddit=wallstreetbets&is_video=false&size=500&after=63d\n",
      "Querying from: https://api.pushshift.io/reddit/search/submission?subreddit=wallstreetbets&is_video=false&size=500&after=64d\n",
      "Querying from: https://api.pushshift.io/reddit/search/submission?subreddit=wallstreetbets&is_video=false&size=500&after=65d\n",
      "Querying from: https://api.pushshift.io/reddit/search/submission?subreddit=wallstreetbets&is_video=false&size=500&after=66d\n",
      "Querying from: https://api.pushshift.io/reddit/search/submission?subreddit=wallstreetbets&is_video=false&size=500&after=67d\n"
     ]
    },
    {
     "name": "stdout",
     "output_type": "stream",
     "text": [
      "Querying from: https://api.pushshift.io/reddit/search/submission?subreddit=wallstreetbets&is_video=false&size=500&after=68d\n",
      "Querying from: https://api.pushshift.io/reddit/search/submission?subreddit=wallstreetbets&is_video=false&size=500&after=69d\n",
      "Querying from: https://api.pushshift.io/reddit/search/submission?subreddit=wallstreetbets&is_video=false&size=500&after=70d\n",
      "Querying from: https://api.pushshift.io/reddit/search/submission?subreddit=wallstreetbets&is_video=false&size=500&after=71d\n",
      "Querying from: https://api.pushshift.io/reddit/search/submission?subreddit=wallstreetbets&is_video=false&size=500&after=72d\n",
      "Querying from: https://api.pushshift.io/reddit/search/submission?subreddit=wallstreetbets&is_video=false&size=500&after=73d\n",
      "Querying from: https://api.pushshift.io/reddit/search/submission?subreddit=wallstreetbets&is_video=false&size=500&after=74d\n",
      "Querying from: https://api.pushshift.io/reddit/search/submission?subreddit=wallstreetbets&is_video=false&size=500&after=75d\n",
      "Querying from: https://api.pushshift.io/reddit/search/submission?subreddit=wallstreetbets&is_video=false&size=500&after=76d\n",
      "Querying from: https://api.pushshift.io/reddit/search/submission?subreddit=wallstreetbets&is_video=false&size=500&after=77d\n",
      "Querying from: https://api.pushshift.io/reddit/search/submission?subreddit=wallstreetbets&is_video=false&size=500&after=78d\n",
      "Querying from: https://api.pushshift.io/reddit/search/submission?subreddit=wallstreetbets&is_video=false&size=500&after=79d\n",
      "Querying from: https://api.pushshift.io/reddit/search/submission?subreddit=wallstreetbets&is_video=false&size=500&after=80d\n",
      "Querying from: https://api.pushshift.io/reddit/search/submission?subreddit=wallstreetbets&is_video=false&size=500&after=81d\n",
      "Querying from: https://api.pushshift.io/reddit/search/submission?subreddit=wallstreetbets&is_video=false&size=500&after=82d\n",
      "Querying from: https://api.pushshift.io/reddit/search/submission?subreddit=wallstreetbets&is_video=false&size=500&after=83d\n",
      "Querying from: https://api.pushshift.io/reddit/search/submission?subreddit=wallstreetbets&is_video=false&size=500&after=84d\n",
      "Querying from: https://api.pushshift.io/reddit/search/submission?subreddit=wallstreetbets&is_video=false&size=500&after=85d\n",
      "Querying from: https://api.pushshift.io/reddit/search/submission?subreddit=wallstreetbets&is_video=false&size=500&after=86d\n",
      "Querying from: https://api.pushshift.io/reddit/search/submission?subreddit=wallstreetbets&is_video=false&size=500&after=87d\n",
      "Querying from: https://api.pushshift.io/reddit/search/submission?subreddit=wallstreetbets&is_video=false&size=500&after=88d\n",
      "Querying from: https://api.pushshift.io/reddit/search/submission?subreddit=wallstreetbets&is_video=false&size=500&after=89d\n",
      "Querying from: https://api.pushshift.io/reddit/search/submission?subreddit=wallstreetbets&is_video=false&size=500&after=90d\n",
      "Querying from: https://api.pushshift.io/reddit/search/submission?subreddit=wallstreetbets&is_video=false&size=500&after=91d\n",
      "Querying from: https://api.pushshift.io/reddit/search/submission?subreddit=wallstreetbets&is_video=false&size=500&after=92d\n",
      "Querying from: https://api.pushshift.io/reddit/search/submission?subreddit=wallstreetbets&is_video=false&size=500&after=93d\n",
      "Querying from: https://api.pushshift.io/reddit/search/submission?subreddit=wallstreetbets&is_video=false&size=500&after=94d\n",
      "Querying from: https://api.pushshift.io/reddit/search/submission?subreddit=wallstreetbets&is_video=false&size=500&after=95d\n",
      "Querying from: https://api.pushshift.io/reddit/search/submission?subreddit=wallstreetbets&is_video=false&size=500&after=96d\n",
      "Querying from: https://api.pushshift.io/reddit/search/submission?subreddit=wallstreetbets&is_video=false&size=500&after=97d\n",
      "Querying from: https://api.pushshift.io/reddit/search/submission?subreddit=wallstreetbets&is_video=false&size=500&after=98d\n",
      "Querying from: https://api.pushshift.io/reddit/search/submission?subreddit=wallstreetbets&is_video=false&size=500&after=99d\n",
      "Querying from: https://api.pushshift.io/reddit/search/submission?subreddit=wallstreetbets&is_video=false&size=500&after=100d\n",
      "Querying from: https://api.pushshift.io/reddit/search/submission?subreddit=wallstreetbets&is_video=false&size=500&after=101d\n",
      "Querying from: https://api.pushshift.io/reddit/search/submission?subreddit=wallstreetbets&is_video=false&size=500&after=102d\n",
      "Querying from: https://api.pushshift.io/reddit/search/submission?subreddit=wallstreetbets&is_video=false&size=500&after=103d\n",
      "Querying from: https://api.pushshift.io/reddit/search/submission?subreddit=wallstreetbets&is_video=false&size=500&after=104d\n",
      "Querying from: https://api.pushshift.io/reddit/search/submission?subreddit=wallstreetbets&is_video=false&size=500&after=105d\n",
      "Querying from: https://api.pushshift.io/reddit/search/submission?subreddit=wallstreetbets&is_video=false&size=500&after=106d\n",
      "Querying from: https://api.pushshift.io/reddit/search/submission?subreddit=wallstreetbets&is_video=false&size=500&after=107d\n",
      "Querying from: https://api.pushshift.io/reddit/search/submission?subreddit=wallstreetbets&is_video=false&size=500&after=108d\n",
      "Querying from: https://api.pushshift.io/reddit/search/submission?subreddit=wallstreetbets&is_video=false&size=500&after=109d\n",
      "Querying from: https://api.pushshift.io/reddit/search/submission?subreddit=wallstreetbets&is_video=false&size=500&after=110d\n",
      "Querying from: https://api.pushshift.io/reddit/search/submission?subreddit=wallstreetbets&is_video=false&size=500&after=111d\n",
      "Querying from: https://api.pushshift.io/reddit/search/submission?subreddit=wallstreetbets&is_video=false&size=500&after=112d\n",
      "Querying from: https://api.pushshift.io/reddit/search/submission?subreddit=wallstreetbets&is_video=false&size=500&after=113d\n",
      "Querying from: https://api.pushshift.io/reddit/search/submission?subreddit=wallstreetbets&is_video=false&size=500&after=114d\n",
      "Querying from: https://api.pushshift.io/reddit/search/submission?subreddit=wallstreetbets&is_video=false&size=500&after=115d\n",
      "Querying from: https://api.pushshift.io/reddit/search/submission?subreddit=wallstreetbets&is_video=false&size=500&after=116d\n",
      "Querying from: https://api.pushshift.io/reddit/search/submission?subreddit=wallstreetbets&is_video=false&size=500&after=117d\n",
      "Querying from: https://api.pushshift.io/reddit/search/submission?subreddit=wallstreetbets&is_video=false&size=500&after=118d\n",
      "Querying from: https://api.pushshift.io/reddit/search/submission?subreddit=wallstreetbets&is_video=false&size=500&after=119d\n",
      "Querying from: https://api.pushshift.io/reddit/search/submission?subreddit=wallstreetbets&is_video=false&size=500&after=120d\n",
      "Querying from: https://api.pushshift.io/reddit/search/submission?subreddit=wallstreetbets&is_video=false&size=500&after=121d\n",
      "Querying from: https://api.pushshift.io/reddit/search/submission?subreddit=wallstreetbets&is_video=false&size=500&after=122d\n",
      "Querying from: https://api.pushshift.io/reddit/search/submission?subreddit=wallstreetbets&is_video=false&size=500&after=123d\n",
      "Querying from: https://api.pushshift.io/reddit/search/submission?subreddit=wallstreetbets&is_video=false&size=500&after=124d\n",
      "Querying from: https://api.pushshift.io/reddit/search/submission?subreddit=wallstreetbets&is_video=false&size=500&after=125d\n",
      "Querying from: https://api.pushshift.io/reddit/search/submission?subreddit=wallstreetbets&is_video=false&size=500&after=126d\n",
      "Querying from: https://api.pushshift.io/reddit/search/submission?subreddit=wallstreetbets&is_video=false&size=500&after=127d\n",
      "Querying from: https://api.pushshift.io/reddit/search/submission?subreddit=wallstreetbets&is_video=false&size=500&after=128d\n",
      "Querying from: https://api.pushshift.io/reddit/search/submission?subreddit=wallstreetbets&is_video=false&size=500&after=129d\n",
      "Querying from: https://api.pushshift.io/reddit/search/submission?subreddit=wallstreetbets&is_video=false&size=500&after=130d\n",
      "Querying from: https://api.pushshift.io/reddit/search/submission?subreddit=wallstreetbets&is_video=false&size=500&after=131d\n",
      "Querying from: https://api.pushshift.io/reddit/search/submission?subreddit=wallstreetbets&is_video=false&size=500&after=132d\n",
      "Querying from: https://api.pushshift.io/reddit/search/submission?subreddit=wallstreetbets&is_video=false&size=500&after=133d\n"
     ]
    },
    {
     "name": "stdout",
     "output_type": "stream",
     "text": [
      "Querying from: https://api.pushshift.io/reddit/search/submission?subreddit=wallstreetbets&is_video=false&size=500&after=134d\n",
      "Querying from: https://api.pushshift.io/reddit/search/submission?subreddit=wallstreetbets&is_video=false&size=500&after=135d\n",
      "Querying from: https://api.pushshift.io/reddit/search/submission?subreddit=wallstreetbets&is_video=false&size=500&after=136d\n",
      "Querying from: https://api.pushshift.io/reddit/search/submission?subreddit=wallstreetbets&is_video=false&size=500&after=137d\n",
      "Querying from: https://api.pushshift.io/reddit/search/submission?subreddit=wallstreetbets&is_video=false&size=500&after=138d\n",
      "Querying from: https://api.pushshift.io/reddit/search/submission?subreddit=wallstreetbets&is_video=false&size=500&after=139d\n",
      "Querying from: https://api.pushshift.io/reddit/search/submission?subreddit=wallstreetbets&is_video=false&size=500&after=140d\n",
      "Querying from: https://api.pushshift.io/reddit/search/submission?subreddit=wallstreetbets&is_video=false&size=500&after=141d\n",
      "Querying from: https://api.pushshift.io/reddit/search/submission?subreddit=wallstreetbets&is_video=false&size=500&after=142d\n",
      "Querying from: https://api.pushshift.io/reddit/search/submission?subreddit=wallstreetbets&is_video=false&size=500&after=143d\n",
      "Querying from: https://api.pushshift.io/reddit/search/submission?subreddit=wallstreetbets&is_video=false&size=500&after=144d\n",
      "Querying from: https://api.pushshift.io/reddit/search/submission?subreddit=wallstreetbets&is_video=false&size=500&after=145d\n",
      "Querying from: https://api.pushshift.io/reddit/search/submission?subreddit=wallstreetbets&is_video=false&size=500&after=146d\n",
      "Querying from: https://api.pushshift.io/reddit/search/submission?subreddit=wallstreetbets&is_video=false&size=500&after=147d\n",
      "Querying from: https://api.pushshift.io/reddit/search/submission?subreddit=wallstreetbets&is_video=false&size=500&after=148d\n",
      "Querying from: https://api.pushshift.io/reddit/search/submission?subreddit=wallstreetbets&is_video=false&size=500&after=149d\n",
      "Querying from: https://api.pushshift.io/reddit/search/submission?subreddit=wallstreetbets&is_video=false&size=500&after=150d\n",
      "Querying from: https://api.pushshift.io/reddit/search/submission?subreddit=wallstreetbets&is_video=false&size=500&after=151d\n",
      "Querying from: https://api.pushshift.io/reddit/search/submission?subreddit=wallstreetbets&is_video=false&size=500&after=152d\n",
      "Querying from: https://api.pushshift.io/reddit/search/submission?subreddit=wallstreetbets&is_video=false&size=500&after=153d\n",
      "Querying from: https://api.pushshift.io/reddit/search/submission?subreddit=wallstreetbets&is_video=false&size=500&after=154d\n",
      "Querying from: https://api.pushshift.io/reddit/search/submission?subreddit=wallstreetbets&is_video=false&size=500&after=155d\n",
      "Querying from: https://api.pushshift.io/reddit/search/submission?subreddit=wallstreetbets&is_video=false&size=500&after=156d\n",
      "Querying from: https://api.pushshift.io/reddit/search/submission?subreddit=wallstreetbets&is_video=false&size=500&after=157d\n",
      "Querying from: https://api.pushshift.io/reddit/search/submission?subreddit=wallstreetbets&is_video=false&size=500&after=158d\n",
      "Querying from: https://api.pushshift.io/reddit/search/submission?subreddit=wallstreetbets&is_video=false&size=500&after=159d\n",
      "Querying from: https://api.pushshift.io/reddit/search/submission?subreddit=wallstreetbets&is_video=false&size=500&after=160d\n",
      "Querying from: https://api.pushshift.io/reddit/search/submission?subreddit=wallstreetbets&is_video=false&size=500&after=161d\n",
      "Querying from: https://api.pushshift.io/reddit/search/submission?subreddit=wallstreetbets&is_video=false&size=500&after=162d\n",
      "Querying from: https://api.pushshift.io/reddit/search/submission?subreddit=wallstreetbets&is_video=false&size=500&after=163d\n",
      "Querying from: https://api.pushshift.io/reddit/search/submission?subreddit=wallstreetbets&is_video=false&size=500&after=164d\n",
      "Querying from: https://api.pushshift.io/reddit/search/submission?subreddit=wallstreetbets&is_video=false&size=500&after=165d\n",
      "Querying from: https://api.pushshift.io/reddit/search/submission?subreddit=wallstreetbets&is_video=false&size=500&after=166d\n",
      "Querying from: https://api.pushshift.io/reddit/search/submission?subreddit=wallstreetbets&is_video=false&size=500&after=167d\n",
      "Querying from: https://api.pushshift.io/reddit/search/submission?subreddit=wallstreetbets&is_video=false&size=500&after=168d\n",
      "Querying from: https://api.pushshift.io/reddit/search/submission?subreddit=wallstreetbets&is_video=false&size=500&after=169d\n",
      "Querying from: https://api.pushshift.io/reddit/search/submission?subreddit=wallstreetbets&is_video=false&size=500&after=170d\n",
      "Querying from: https://api.pushshift.io/reddit/search/submission?subreddit=wallstreetbets&is_video=false&size=500&after=171d\n",
      "Querying from: https://api.pushshift.io/reddit/search/submission?subreddit=wallstreetbets&is_video=false&size=500&after=172d\n",
      "Querying from: https://api.pushshift.io/reddit/search/submission?subreddit=wallstreetbets&is_video=false&size=500&after=173d\n",
      "Querying from: https://api.pushshift.io/reddit/search/submission?subreddit=wallstreetbets&is_video=false&size=500&after=174d\n",
      "Querying from: https://api.pushshift.io/reddit/search/submission?subreddit=wallstreetbets&is_video=false&size=500&after=175d\n",
      "Querying from: https://api.pushshift.io/reddit/search/submission?subreddit=wallstreetbets&is_video=false&size=500&after=176d\n",
      "Querying from: https://api.pushshift.io/reddit/search/submission?subreddit=wallstreetbets&is_video=false&size=500&after=177d\n",
      "Querying from: https://api.pushshift.io/reddit/search/submission?subreddit=wallstreetbets&is_video=false&size=500&after=178d\n",
      "Querying from: https://api.pushshift.io/reddit/search/submission?subreddit=wallstreetbets&is_video=false&size=500&after=179d\n",
      "Querying from: https://api.pushshift.io/reddit/search/submission?subreddit=wallstreetbets&is_video=false&size=500&after=180d\n",
      "Querying from: https://api.pushshift.io/reddit/search/submission?subreddit=wallstreetbets&is_video=false&size=500&after=181d\n",
      "Querying from: https://api.pushshift.io/reddit/search/submission?subreddit=wallstreetbets&is_video=false&size=500&after=182d\n",
      "Querying from: https://api.pushshift.io/reddit/search/submission?subreddit=wallstreetbets&is_video=false&size=500&after=183d\n",
      "Querying from: https://api.pushshift.io/reddit/search/submission?subreddit=wallstreetbets&is_video=false&size=500&after=184d\n",
      "Querying from: https://api.pushshift.io/reddit/search/submission?subreddit=wallstreetbets&is_video=false&size=500&after=185d\n",
      "Querying from: https://api.pushshift.io/reddit/search/submission?subreddit=wallstreetbets&is_video=false&size=500&after=186d\n",
      "Querying from: https://api.pushshift.io/reddit/search/submission?subreddit=wallstreetbets&is_video=false&size=500&after=187d\n",
      "Querying from: https://api.pushshift.io/reddit/search/submission?subreddit=wallstreetbets&is_video=false&size=500&after=188d\n",
      "Querying from: https://api.pushshift.io/reddit/search/submission?subreddit=wallstreetbets&is_video=false&size=500&after=189d\n",
      "Querying from: https://api.pushshift.io/reddit/search/submission?subreddit=wallstreetbets&is_video=false&size=500&after=190d\n",
      "Querying from: https://api.pushshift.io/reddit/search/submission?subreddit=wallstreetbets&is_video=false&size=500&after=191d\n",
      "Querying from: https://api.pushshift.io/reddit/search/submission?subreddit=wallstreetbets&is_video=false&size=500&after=192d\n",
      "Querying from: https://api.pushshift.io/reddit/search/submission?subreddit=wallstreetbets&is_video=false&size=500&after=193d\n",
      "Querying from: https://api.pushshift.io/reddit/search/submission?subreddit=wallstreetbets&is_video=false&size=500&after=194d\n",
      "Querying from: https://api.pushshift.io/reddit/search/submission?subreddit=wallstreetbets&is_video=false&size=500&after=195d\n",
      "Querying from: https://api.pushshift.io/reddit/search/submission?subreddit=wallstreetbets&is_video=false&size=500&after=196d\n",
      "Querying from: https://api.pushshift.io/reddit/search/submission?subreddit=wallstreetbets&is_video=false&size=500&after=197d\n",
      "Querying from: https://api.pushshift.io/reddit/search/submission?subreddit=wallstreetbets&is_video=false&size=500&after=198d\n",
      "Querying from: https://api.pushshift.io/reddit/search/submission?subreddit=wallstreetbets&is_video=false&size=500&after=199d\n"
     ]
    },
    {
     "name": "stdout",
     "output_type": "stream",
     "text": [
      "Querying from: https://api.pushshift.io/reddit/search/submission?subreddit=wallstreetbets&is_video=false&size=500&after=200d\n",
      "Querying from: https://api.pushshift.io/reddit/search/submission?subreddit=wallstreetbets&is_video=false&size=500&after=201d\n",
      "Querying from: https://api.pushshift.io/reddit/search/submission?subreddit=wallstreetbets&is_video=false&size=500&after=202d\n",
      "Querying from: https://api.pushshift.io/reddit/search/submission?subreddit=wallstreetbets&is_video=false&size=500&after=203d\n",
      "Querying from: https://api.pushshift.io/reddit/search/submission?subreddit=wallstreetbets&is_video=false&size=500&after=204d\n",
      "Querying from: https://api.pushshift.io/reddit/search/submission?subreddit=wallstreetbets&is_video=false&size=500&after=205d\n",
      "Querying from: https://api.pushshift.io/reddit/search/submission?subreddit=wallstreetbets&is_video=false&size=500&after=206d\n",
      "Querying from: https://api.pushshift.io/reddit/search/submission?subreddit=wallstreetbets&is_video=false&size=500&after=207d\n",
      "Querying from: https://api.pushshift.io/reddit/search/submission?subreddit=wallstreetbets&is_video=false&size=500&after=208d\n",
      "Querying from: https://api.pushshift.io/reddit/search/submission?subreddit=wallstreetbets&is_video=false&size=500&after=209d\n",
      "Querying from: https://api.pushshift.io/reddit/search/submission?subreddit=wallstreetbets&is_video=false&size=500&after=210d\n",
      "Querying from: https://api.pushshift.io/reddit/search/submission?subreddit=wallstreetbets&is_video=false&size=500&after=211d\n",
      "Querying from: https://api.pushshift.io/reddit/search/submission?subreddit=wallstreetbets&is_video=false&size=500&after=212d\n",
      "Querying from: https://api.pushshift.io/reddit/search/submission?subreddit=wallstreetbets&is_video=false&size=500&after=213d\n",
      "Querying from: https://api.pushshift.io/reddit/search/submission?subreddit=wallstreetbets&is_video=false&size=500&after=214d\n",
      "Querying from: https://api.pushshift.io/reddit/search/submission?subreddit=wallstreetbets&is_video=false&size=500&after=215d\n",
      "Querying from: https://api.pushshift.io/reddit/search/submission?subreddit=wallstreetbets&is_video=false&size=500&after=216d\n",
      "Querying from: https://api.pushshift.io/reddit/search/submission?subreddit=wallstreetbets&is_video=false&size=500&after=217d\n",
      "Querying from: https://api.pushshift.io/reddit/search/submission?subreddit=wallstreetbets&is_video=false&size=500&after=218d\n",
      "Querying from: https://api.pushshift.io/reddit/search/submission?subreddit=wallstreetbets&is_video=false&size=500&after=219d\n",
      "Querying from: https://api.pushshift.io/reddit/search/submission?subreddit=wallstreetbets&is_video=false&size=500&after=220d\n",
      "Querying from: https://api.pushshift.io/reddit/search/submission?subreddit=wallstreetbets&is_video=false&size=500&after=221d\n",
      "Querying from: https://api.pushshift.io/reddit/search/submission?subreddit=wallstreetbets&is_video=false&size=500&after=222d\n",
      "Querying from: https://api.pushshift.io/reddit/search/submission?subreddit=wallstreetbets&is_video=false&size=500&after=223d\n",
      "Querying from: https://api.pushshift.io/reddit/search/submission?subreddit=wallstreetbets&is_video=false&size=500&after=224d\n",
      "Querying from: https://api.pushshift.io/reddit/search/submission?subreddit=wallstreetbets&is_video=false&size=500&after=225d\n",
      "Querying from: https://api.pushshift.io/reddit/search/submission?subreddit=wallstreetbets&is_video=false&size=500&after=226d\n",
      "Querying from: https://api.pushshift.io/reddit/search/submission?subreddit=wallstreetbets&is_video=false&size=500&after=227d\n",
      "Querying from: https://api.pushshift.io/reddit/search/submission?subreddit=wallstreetbets&is_video=false&size=500&after=228d\n",
      "Querying from: https://api.pushshift.io/reddit/search/submission?subreddit=wallstreetbets&is_video=false&size=500&after=229d\n",
      "Querying from: https://api.pushshift.io/reddit/search/submission?subreddit=wallstreetbets&is_video=false&size=500&after=230d\n",
      "Querying from: https://api.pushshift.io/reddit/search/submission?subreddit=wallstreetbets&is_video=false&size=500&after=231d\n",
      "Querying from: https://api.pushshift.io/reddit/search/submission?subreddit=wallstreetbets&is_video=false&size=500&after=232d\n",
      "Querying from: https://api.pushshift.io/reddit/search/submission?subreddit=wallstreetbets&is_video=false&size=500&after=233d\n",
      "Querying from: https://api.pushshift.io/reddit/search/submission?subreddit=wallstreetbets&is_video=false&size=500&after=234d\n",
      "Querying from: https://api.pushshift.io/reddit/search/submission?subreddit=wallstreetbets&is_video=false&size=500&after=235d\n",
      "Querying from: https://api.pushshift.io/reddit/search/submission?subreddit=wallstreetbets&is_video=false&size=500&after=236d\n",
      "Querying from: https://api.pushshift.io/reddit/search/submission?subreddit=wallstreetbets&is_video=false&size=500&after=237d\n",
      "Querying from: https://api.pushshift.io/reddit/search/submission?subreddit=wallstreetbets&is_video=false&size=500&after=238d\n",
      "Querying from: https://api.pushshift.io/reddit/search/submission?subreddit=wallstreetbets&is_video=false&size=500&after=239d\n",
      "Querying from: https://api.pushshift.io/reddit/search/submission?subreddit=wallstreetbets&is_video=false&size=500&after=240d\n",
      "Querying from: https://api.pushshift.io/reddit/search/submission?subreddit=wallstreetbets&is_video=false&size=500&after=241d\n",
      "Querying from: https://api.pushshift.io/reddit/search/submission?subreddit=wallstreetbets&is_video=false&size=500&after=242d\n",
      "Querying from: https://api.pushshift.io/reddit/search/submission?subreddit=wallstreetbets&is_video=false&size=500&after=243d\n",
      "Querying from: https://api.pushshift.io/reddit/search/submission?subreddit=wallstreetbets&is_video=false&size=500&after=244d\n",
      "Querying from: https://api.pushshift.io/reddit/search/submission?subreddit=wallstreetbets&is_video=false&size=500&after=245d\n",
      "Querying from: https://api.pushshift.io/reddit/search/submission?subreddit=wallstreetbets&is_video=false&size=500&after=246d\n",
      "Querying from: https://api.pushshift.io/reddit/search/submission?subreddit=wallstreetbets&is_video=false&size=500&after=247d\n",
      "Querying from: https://api.pushshift.io/reddit/search/submission?subreddit=wallstreetbets&is_video=false&size=500&after=248d\n",
      "Querying from: https://api.pushshift.io/reddit/search/submission?subreddit=wallstreetbets&is_video=false&size=500&after=249d\n",
      "Querying from: https://api.pushshift.io/reddit/search/submission?subreddit=wallstreetbets&is_video=false&size=500&after=250d\n",
      "Querying from: https://api.pushshift.io/reddit/search/submission?subreddit=wallstreetbets&is_video=false&size=500&after=251d\n",
      "Querying from: https://api.pushshift.io/reddit/search/submission?subreddit=wallstreetbets&is_video=false&size=500&after=252d\n",
      "Querying from: https://api.pushshift.io/reddit/search/submission?subreddit=wallstreetbets&is_video=false&size=500&after=253d\n",
      "Querying from: https://api.pushshift.io/reddit/search/submission?subreddit=wallstreetbets&is_video=false&size=500&after=254d\n",
      "Querying from: https://api.pushshift.io/reddit/search/submission?subreddit=wallstreetbets&is_video=false&size=500&after=255d\n",
      "Querying from: https://api.pushshift.io/reddit/search/submission?subreddit=wallstreetbets&is_video=false&size=500&after=256d\n",
      "Querying from: https://api.pushshift.io/reddit/search/submission?subreddit=wallstreetbets&is_video=false&size=500&after=257d\n",
      "Querying from: https://api.pushshift.io/reddit/search/submission?subreddit=wallstreetbets&is_video=false&size=500&after=258d\n",
      "Querying from: https://api.pushshift.io/reddit/search/submission?subreddit=wallstreetbets&is_video=false&size=500&after=259d\n",
      "Querying from: https://api.pushshift.io/reddit/search/submission?subreddit=wallstreetbets&is_video=false&size=500&after=260d\n",
      "Querying from: https://api.pushshift.io/reddit/search/submission?subreddit=wallstreetbets&is_video=false&size=500&after=261d\n",
      "Querying from: https://api.pushshift.io/reddit/search/submission?subreddit=wallstreetbets&is_video=false&size=500&after=262d\n",
      "Querying from: https://api.pushshift.io/reddit/search/submission?subreddit=wallstreetbets&is_video=false&size=500&after=263d\n",
      "Querying from: https://api.pushshift.io/reddit/search/submission?subreddit=wallstreetbets&is_video=false&size=500&after=264d\n",
      "Querying from: https://api.pushshift.io/reddit/search/submission?subreddit=wallstreetbets&is_video=false&size=500&after=265d\n"
     ]
    },
    {
     "name": "stdout",
     "output_type": "stream",
     "text": [
      "Querying from: https://api.pushshift.io/reddit/search/submission?subreddit=wallstreetbets&is_video=false&size=500&after=266d\n",
      "Querying from: https://api.pushshift.io/reddit/search/submission?subreddit=wallstreetbets&is_video=false&size=500&after=267d\n",
      "Querying from: https://api.pushshift.io/reddit/search/submission?subreddit=wallstreetbets&is_video=false&size=500&after=268d\n",
      "Querying from: https://api.pushshift.io/reddit/search/submission?subreddit=wallstreetbets&is_video=false&size=500&after=269d\n",
      "Querying from: https://api.pushshift.io/reddit/search/submission?subreddit=wallstreetbets&is_video=false&size=500&after=270d\n",
      "Querying from: https://api.pushshift.io/reddit/search/submission?subreddit=wallstreetbets&is_video=false&size=500&after=271d\n",
      "Querying from: https://api.pushshift.io/reddit/search/submission?subreddit=wallstreetbets&is_video=false&size=500&after=272d\n",
      "Querying from: https://api.pushshift.io/reddit/search/submission?subreddit=wallstreetbets&is_video=false&size=500&after=273d\n",
      "Querying from: https://api.pushshift.io/reddit/search/submission?subreddit=wallstreetbets&is_video=false&size=500&after=274d\n",
      "Querying from: https://api.pushshift.io/reddit/search/submission?subreddit=wallstreetbets&is_video=false&size=500&after=275d\n",
      "Querying from: https://api.pushshift.io/reddit/search/submission?subreddit=wallstreetbets&is_video=false&size=500&after=276d\n",
      "Querying from: https://api.pushshift.io/reddit/search/submission?subreddit=wallstreetbets&is_video=false&size=500&after=277d\n",
      "Querying from: https://api.pushshift.io/reddit/search/submission?subreddit=wallstreetbets&is_video=false&size=500&after=278d\n",
      "Querying from: https://api.pushshift.io/reddit/search/submission?subreddit=wallstreetbets&is_video=false&size=500&after=279d\n",
      "Querying from: https://api.pushshift.io/reddit/search/submission?subreddit=wallstreetbets&is_video=false&size=500&after=280d\n",
      "Querying from: https://api.pushshift.io/reddit/search/submission?subreddit=wallstreetbets&is_video=false&size=500&after=281d\n",
      "Querying from: https://api.pushshift.io/reddit/search/submission?subreddit=wallstreetbets&is_video=false&size=500&after=282d\n",
      "Querying from: https://api.pushshift.io/reddit/search/submission?subreddit=wallstreetbets&is_video=false&size=500&after=283d\n",
      "Querying from: https://api.pushshift.io/reddit/search/submission?subreddit=wallstreetbets&is_video=false&size=500&after=284d\n",
      "Querying from: https://api.pushshift.io/reddit/search/submission?subreddit=wallstreetbets&is_video=false&size=500&after=285d\n",
      "Querying from: https://api.pushshift.io/reddit/search/submission?subreddit=wallstreetbets&is_video=false&size=500&after=286d\n",
      "Querying from: https://api.pushshift.io/reddit/search/submission?subreddit=wallstreetbets&is_video=false&size=500&after=287d\n",
      "Querying from: https://api.pushshift.io/reddit/search/submission?subreddit=wallstreetbets&is_video=false&size=500&after=288d\n",
      "Querying from: https://api.pushshift.io/reddit/search/submission?subreddit=wallstreetbets&is_video=false&size=500&after=289d\n",
      "Querying from: https://api.pushshift.io/reddit/search/submission?subreddit=wallstreetbets&is_video=false&size=500&after=290d\n",
      "Querying from: https://api.pushshift.io/reddit/search/submission?subreddit=wallstreetbets&is_video=false&size=500&after=291d\n",
      "Querying from: https://api.pushshift.io/reddit/search/submission?subreddit=wallstreetbets&is_video=false&size=500&after=292d\n",
      "Querying from: https://api.pushshift.io/reddit/search/submission?subreddit=wallstreetbets&is_video=false&size=500&after=293d\n",
      "Querying from: https://api.pushshift.io/reddit/search/submission?subreddit=wallstreetbets&is_video=false&size=500&after=294d\n",
      "Querying from: https://api.pushshift.io/reddit/search/submission?subreddit=wallstreetbets&is_video=false&size=500&after=295d\n",
      "Querying from: https://api.pushshift.io/reddit/search/submission?subreddit=wallstreetbets&is_video=false&size=500&after=296d\n",
      "Querying from: https://api.pushshift.io/reddit/search/submission?subreddit=wallstreetbets&is_video=false&size=500&after=297d\n",
      "Querying from: https://api.pushshift.io/reddit/search/submission?subreddit=wallstreetbets&is_video=false&size=500&after=298d\n",
      "Querying from: https://api.pushshift.io/reddit/search/submission?subreddit=wallstreetbets&is_video=false&size=500&after=299d\n",
      "Querying from: https://api.pushshift.io/reddit/search/submission?subreddit=wallstreetbets&is_video=false&size=500&after=300d\n",
      "Querying from: https://api.pushshift.io/reddit/search/submission?subreddit=wallstreetbets&is_video=false&size=500&after=301d\n",
      "Querying from: https://api.pushshift.io/reddit/search/submission?subreddit=wallstreetbets&is_video=false&size=500&after=302d\n",
      "Querying from: https://api.pushshift.io/reddit/search/submission?subreddit=wallstreetbets&is_video=false&size=500&after=303d\n",
      "Querying from: https://api.pushshift.io/reddit/search/submission?subreddit=wallstreetbets&is_video=false&size=500&after=304d\n",
      "Querying from: https://api.pushshift.io/reddit/search/submission?subreddit=wallstreetbets&is_video=false&size=500&after=305d\n",
      "Querying from: https://api.pushshift.io/reddit/search/submission?subreddit=wallstreetbets&is_video=false&size=500&after=306d\n",
      "Querying from: https://api.pushshift.io/reddit/search/submission?subreddit=wallstreetbets&is_video=false&size=500&after=307d\n",
      "Querying from: https://api.pushshift.io/reddit/search/submission?subreddit=wallstreetbets&is_video=false&size=500&after=308d\n",
      "Querying from: https://api.pushshift.io/reddit/search/submission?subreddit=wallstreetbets&is_video=false&size=500&after=309d\n",
      "Querying from: https://api.pushshift.io/reddit/search/submission?subreddit=wallstreetbets&is_video=false&size=500&after=310d\n",
      "Querying from: https://api.pushshift.io/reddit/search/submission?subreddit=wallstreetbets&is_video=false&size=500&after=311d\n",
      "Querying from: https://api.pushshift.io/reddit/search/submission?subreddit=wallstreetbets&is_video=false&size=500&after=312d\n",
      "Querying from: https://api.pushshift.io/reddit/search/submission?subreddit=wallstreetbets&is_video=false&size=500&after=313d\n",
      "Querying from: https://api.pushshift.io/reddit/search/submission?subreddit=wallstreetbets&is_video=false&size=500&after=314d\n",
      "Querying from: https://api.pushshift.io/reddit/search/submission?subreddit=wallstreetbets&is_video=false&size=500&after=315d\n",
      "Querying from: https://api.pushshift.io/reddit/search/submission?subreddit=wallstreetbets&is_video=false&size=500&after=316d\n",
      "Querying from: https://api.pushshift.io/reddit/search/submission?subreddit=wallstreetbets&is_video=false&size=500&after=317d\n",
      "Querying from: https://api.pushshift.io/reddit/search/submission?subreddit=wallstreetbets&is_video=false&size=500&after=318d\n",
      "Querying from: https://api.pushshift.io/reddit/search/submission?subreddit=wallstreetbets&is_video=false&size=500&after=319d\n",
      "Querying from: https://api.pushshift.io/reddit/search/submission?subreddit=wallstreetbets&is_video=false&size=500&after=320d\n",
      "Querying from: https://api.pushshift.io/reddit/search/submission?subreddit=wallstreetbets&is_video=false&size=500&after=321d\n",
      "Querying from: https://api.pushshift.io/reddit/search/submission?subreddit=wallstreetbets&is_video=false&size=500&after=322d\n",
      "Querying from: https://api.pushshift.io/reddit/search/submission?subreddit=wallstreetbets&is_video=false&size=500&after=323d\n",
      "Querying from: https://api.pushshift.io/reddit/search/submission?subreddit=wallstreetbets&is_video=false&size=500&after=324d\n",
      "Querying from: https://api.pushshift.io/reddit/search/submission?subreddit=wallstreetbets&is_video=false&size=500&after=325d\n",
      "Querying from: https://api.pushshift.io/reddit/search/submission?subreddit=wallstreetbets&is_video=false&size=500&after=326d\n",
      "Querying from: https://api.pushshift.io/reddit/search/submission?subreddit=wallstreetbets&is_video=false&size=500&after=327d\n",
      "Querying from: https://api.pushshift.io/reddit/search/submission?subreddit=wallstreetbets&is_video=false&size=500&after=328d\n",
      "Querying from: https://api.pushshift.io/reddit/search/submission?subreddit=wallstreetbets&is_video=false&size=500&after=329d\n",
      "Querying from: https://api.pushshift.io/reddit/search/submission?subreddit=wallstreetbets&is_video=false&size=500&after=330d\n",
      "Querying from: https://api.pushshift.io/reddit/search/submission?subreddit=wallstreetbets&is_video=false&size=500&after=331d\n"
     ]
    },
    {
     "name": "stdout",
     "output_type": "stream",
     "text": [
      "Querying from: https://api.pushshift.io/reddit/search/submission?subreddit=wallstreetbets&is_video=false&size=500&after=332d\n",
      "Querying from: https://api.pushshift.io/reddit/search/submission?subreddit=wallstreetbets&is_video=false&size=500&after=333d\n",
      "Querying from: https://api.pushshift.io/reddit/search/submission?subreddit=wallstreetbets&is_video=false&size=500&after=334d\n",
      "Querying from: https://api.pushshift.io/reddit/search/submission?subreddit=wallstreetbets&is_video=false&size=500&after=335d\n",
      "Querying from: https://api.pushshift.io/reddit/search/submission?subreddit=wallstreetbets&is_video=false&size=500&after=336d\n",
      "Querying from: https://api.pushshift.io/reddit/search/submission?subreddit=wallstreetbets&is_video=false&size=500&after=337d\n",
      "Querying from: https://api.pushshift.io/reddit/search/submission?subreddit=wallstreetbets&is_video=false&size=500&after=338d\n",
      "Querying from: https://api.pushshift.io/reddit/search/submission?subreddit=wallstreetbets&is_video=false&size=500&after=339d\n",
      "Querying from: https://api.pushshift.io/reddit/search/submission?subreddit=wallstreetbets&is_video=false&size=500&after=340d\n",
      "Querying from: https://api.pushshift.io/reddit/search/submission?subreddit=wallstreetbets&is_video=false&size=500&after=341d\n",
      "Querying from: https://api.pushshift.io/reddit/search/submission?subreddit=wallstreetbets&is_video=false&size=500&after=342d\n",
      "Querying from: https://api.pushshift.io/reddit/search/submission?subreddit=wallstreetbets&is_video=false&size=500&after=343d\n",
      "Querying from: https://api.pushshift.io/reddit/search/submission?subreddit=wallstreetbets&is_video=false&size=500&after=344d\n",
      "Querying from: https://api.pushshift.io/reddit/search/submission?subreddit=wallstreetbets&is_video=false&size=500&after=345d\n",
      "Querying from: https://api.pushshift.io/reddit/search/submission?subreddit=wallstreetbets&is_video=false&size=500&after=346d\n",
      "Querying from: https://api.pushshift.io/reddit/search/submission?subreddit=wallstreetbets&is_video=false&size=500&after=347d\n",
      "Querying from: https://api.pushshift.io/reddit/search/submission?subreddit=wallstreetbets&is_video=false&size=500&after=348d\n",
      "Querying from: https://api.pushshift.io/reddit/search/submission?subreddit=wallstreetbets&is_video=false&size=500&after=349d\n",
      "Querying from: https://api.pushshift.io/reddit/search/submission?subreddit=wallstreetbets&is_video=false&size=500&after=350d\n",
      "Querying from: https://api.pushshift.io/reddit/search/submission?subreddit=wallstreetbets&is_video=false&size=500&after=351d\n",
      "Querying from: https://api.pushshift.io/reddit/search/submission?subreddit=wallstreetbets&is_video=false&size=500&after=352d\n",
      "Querying from: https://api.pushshift.io/reddit/search/submission?subreddit=wallstreetbets&is_video=false&size=500&after=353d\n",
      "Querying from: https://api.pushshift.io/reddit/search/submission?subreddit=wallstreetbets&is_video=false&size=500&after=354d\n",
      "Querying from: https://api.pushshift.io/reddit/search/submission?subreddit=wallstreetbets&is_video=false&size=500&after=355d\n",
      "Querying from: https://api.pushshift.io/reddit/search/submission?subreddit=wallstreetbets&is_video=false&size=500&after=356d\n",
      "Querying from: https://api.pushshift.io/reddit/search/submission?subreddit=wallstreetbets&is_video=false&size=500&after=357d\n",
      "Querying from: https://api.pushshift.io/reddit/search/submission?subreddit=wallstreetbets&is_video=false&size=500&after=358d\n",
      "Querying from: https://api.pushshift.io/reddit/search/submission?subreddit=wallstreetbets&is_video=false&size=500&after=359d\n",
      "Querying from: https://api.pushshift.io/reddit/search/submission?subreddit=wallstreetbets&is_video=false&size=500&after=360d\n",
      "Querying from: https://api.pushshift.io/reddit/search/submission?subreddit=wallstreetbets&is_video=false&size=500&after=361d\n",
      "Querying from: https://api.pushshift.io/reddit/search/submission?subreddit=wallstreetbets&is_video=false&size=500&after=362d\n",
      "Querying from: https://api.pushshift.io/reddit/search/submission?subreddit=wallstreetbets&is_video=false&size=500&after=363d\n",
      "Querying from: https://api.pushshift.io/reddit/search/submission?subreddit=wallstreetbets&is_video=false&size=500&after=364d\n",
      "Querying from: https://api.pushshift.io/reddit/search/submission?subreddit=wallstreetbets&is_video=false&size=500&after=365d\n",
      "Querying from: https://api.pushshift.io/reddit/search/submission?subreddit=wallstreetbets&is_video=false&size=500&after=366d\n",
      "Querying from: https://api.pushshift.io/reddit/search/submission?subreddit=wallstreetbets&is_video=false&size=500&after=367d\n",
      "Querying from: https://api.pushshift.io/reddit/search/submission?subreddit=wallstreetbets&is_video=false&size=500&after=368d\n",
      "Querying from: https://api.pushshift.io/reddit/search/submission?subreddit=wallstreetbets&is_video=false&size=500&after=369d\n",
      "Querying from: https://api.pushshift.io/reddit/search/submission?subreddit=wallstreetbets&is_video=false&size=500&after=370d\n",
      "Querying from: https://api.pushshift.io/reddit/search/submission?subreddit=wallstreetbets&is_video=false&size=500&after=371d\n",
      "Querying from: https://api.pushshift.io/reddit/search/submission?subreddit=wallstreetbets&is_video=false&size=500&after=372d\n",
      "Querying from: https://api.pushshift.io/reddit/search/submission?subreddit=wallstreetbets&is_video=false&size=500&after=373d\n",
      "Querying from: https://api.pushshift.io/reddit/search/submission?subreddit=wallstreetbets&is_video=false&size=500&after=374d\n",
      "Querying from: https://api.pushshift.io/reddit/search/submission?subreddit=wallstreetbets&is_video=false&size=500&after=375d\n",
      "Querying from: https://api.pushshift.io/reddit/search/submission?subreddit=wallstreetbets&is_video=false&size=500&after=376d\n",
      "Querying from: https://api.pushshift.io/reddit/search/submission?subreddit=wallstreetbets&is_video=false&size=500&after=377d\n",
      "Querying from: https://api.pushshift.io/reddit/search/submission?subreddit=wallstreetbets&is_video=false&size=500&after=378d\n",
      "Querying from: https://api.pushshift.io/reddit/search/submission?subreddit=wallstreetbets&is_video=false&size=500&after=379d\n",
      "Querying from: https://api.pushshift.io/reddit/search/submission?subreddit=wallstreetbets&is_video=false&size=500&after=380d\n",
      "Querying from: https://api.pushshift.io/reddit/search/submission?subreddit=wallstreetbets&is_video=false&size=500&after=381d\n",
      "Querying from: https://api.pushshift.io/reddit/search/submission?subreddit=wallstreetbets&is_video=false&size=500&after=382d\n",
      "Querying from: https://api.pushshift.io/reddit/search/submission?subreddit=wallstreetbets&is_video=false&size=500&after=383d\n",
      "Querying from: https://api.pushshift.io/reddit/search/submission?subreddit=wallstreetbets&is_video=false&size=500&after=384d\n",
      "Querying from: https://api.pushshift.io/reddit/search/submission?subreddit=wallstreetbets&is_video=false&size=500&after=385d\n",
      "Querying from: https://api.pushshift.io/reddit/search/submission?subreddit=wallstreetbets&is_video=false&size=500&after=386d\n",
      "Querying from: https://api.pushshift.io/reddit/search/submission?subreddit=wallstreetbets&is_video=false&size=500&after=387d\n",
      "Querying from: https://api.pushshift.io/reddit/search/submission?subreddit=wallstreetbets&is_video=false&size=500&after=388d\n",
      "Querying from: https://api.pushshift.io/reddit/search/submission?subreddit=wallstreetbets&is_video=false&size=500&after=389d\n",
      "Querying from: https://api.pushshift.io/reddit/search/submission?subreddit=wallstreetbets&is_video=false&size=500&after=390d\n",
      "Querying from: https://api.pushshift.io/reddit/search/submission?subreddit=wallstreetbets&is_video=false&size=500&after=391d\n",
      "Querying from: https://api.pushshift.io/reddit/search/submission?subreddit=wallstreetbets&is_video=false&size=500&after=392d\n",
      "Querying from: https://api.pushshift.io/reddit/search/submission?subreddit=wallstreetbets&is_video=false&size=500&after=393d\n",
      "Querying from: https://api.pushshift.io/reddit/search/submission?subreddit=wallstreetbets&is_video=false&size=500&after=394d\n",
      "Querying from: https://api.pushshift.io/reddit/search/submission?subreddit=wallstreetbets&is_video=false&size=500&after=395d\n",
      "Querying from: https://api.pushshift.io/reddit/search/submission?subreddit=wallstreetbets&is_video=false&size=500&after=396d\n",
      "Querying from: https://api.pushshift.io/reddit/search/submission?subreddit=wallstreetbets&is_video=false&size=500&after=397d\n"
     ]
    },
    {
     "name": "stdout",
     "output_type": "stream",
     "text": [
      "Querying from: https://api.pushshift.io/reddit/search/submission?subreddit=wallstreetbets&is_video=false&size=500&after=398d\n",
      "Querying from: https://api.pushshift.io/reddit/search/submission?subreddit=wallstreetbets&is_video=false&size=500&after=399d\n",
      "Querying from: https://api.pushshift.io/reddit/search/submission?subreddit=wallstreetbets&is_video=false&size=500&after=400d\n",
      "Query Complete!\n"
     ]
    }
   ],
   "source": [
    "df_wsb = query_pushshift(subreddit = 'wallstreetbets')"
   ]
  },
  {
   "cell_type": "code",
   "execution_count": 29,
   "metadata": {},
   "outputs": [
    {
     "data": {
      "text/plain": [
       "(22201, 9)"
      ]
     },
     "execution_count": 29,
     "metadata": {},
     "output_type": "execute_result"
    }
   ],
   "source": [
    "df_wsb.shape"
   ]
  },
  {
   "cell_type": "code",
   "execution_count": 57,
   "metadata": {},
   "outputs": [],
   "source": [
    "df_wsb.drop(columns = ['is_self'], inplace=True)"
   ]
  },
  {
   "cell_type": "code",
   "execution_count": 69,
   "metadata": {
    "scrolled": true
   },
   "outputs": [
    {
     "data": {
      "text/plain": [
       "title             0\n",
       "selftext        411\n",
       "subreddit         0\n",
       "created_utc       0\n",
       "author            0\n",
       "num_comments      0\n",
       "score             0\n",
       "timestamp         0\n",
       "dtype: int64"
      ]
     },
     "execution_count": 69,
     "metadata": {},
     "output_type": "execute_result"
    }
   ],
   "source": [
    "df_wsb.isna().sum()"
   ]
  },
  {
   "cell_type": "code",
   "execution_count": 70,
   "metadata": {},
   "outputs": [],
   "source": [
    "df_wsb.dropna(inplace=True)"
   ]
  },
  {
   "cell_type": "markdown",
   "metadata": {},
   "source": [
    "### Cleaning up data some\n",
    "\n",
    "I dropped the null values because there were not very many in comparison to the number of total documents."
   ]
  },
  {
   "cell_type": "code",
   "execution_count": 30,
   "metadata": {
    "scrolled": false
   },
   "outputs": [
    {
     "data": {
      "text/plain": [
       "13320.6"
      ]
     },
     "execution_count": 30,
     "metadata": {},
     "output_type": "execute_result"
    }
   ],
   "source": [
    "df_wsb.shape[0]*.6"
   ]
  },
  {
   "cell_type": "code",
   "execution_count": 75,
   "metadata": {},
   "outputs": [],
   "source": [
    "df_wsb = df_wsb[df_wsb['selftext'] != '[removed]']"
   ]
  },
  {
   "cell_type": "markdown",
   "metadata": {},
   "source": [
    "### Cleaning up data some\n",
    "\n",
    "About 40% or so of all 'selftext' values were ['removed']. I believe this is either a text that was removed or a reddit user that deleted the account. To make up for it I downloaded extra documents and eliminated the 'removed' values."
   ]
  },
  {
   "cell_type": "code",
   "execution_count": 76,
   "metadata": {},
   "outputs": [],
   "source": [
    "df_wsb.to_csv('./data/wsb.csv')"
   ]
  },
  {
   "cell_type": "markdown",
   "metadata": {},
   "source": [
    "## Collecting data from r/investing"
   ]
  },
  {
   "cell_type": "code",
   "execution_count": 41,
   "metadata": {},
   "outputs": [
    {
     "name": "stdout",
     "output_type": "stream",
     "text": [
      "Querying from: https://api.pushshift.io/reddit/search/submission?subreddit=investing&is_video=false&size=500&after=1d\n",
      "Querying from: https://api.pushshift.io/reddit/search/submission?subreddit=investing&is_video=false&size=500&after=2d\n",
      "Querying from: https://api.pushshift.io/reddit/search/submission?subreddit=investing&is_video=false&size=500&after=3d\n",
      "Querying from: https://api.pushshift.io/reddit/search/submission?subreddit=investing&is_video=false&size=500&after=4d\n",
      "Querying from: https://api.pushshift.io/reddit/search/submission?subreddit=investing&is_video=false&size=500&after=5d\n",
      "Querying from: https://api.pushshift.io/reddit/search/submission?subreddit=investing&is_video=false&size=500&after=6d\n",
      "Querying from: https://api.pushshift.io/reddit/search/submission?subreddit=investing&is_video=false&size=500&after=7d\n",
      "Querying from: https://api.pushshift.io/reddit/search/submission?subreddit=investing&is_video=false&size=500&after=8d\n",
      "Querying from: https://api.pushshift.io/reddit/search/submission?subreddit=investing&is_video=false&size=500&after=9d\n",
      "Querying from: https://api.pushshift.io/reddit/search/submission?subreddit=investing&is_video=false&size=500&after=10d\n",
      "Querying from: https://api.pushshift.io/reddit/search/submission?subreddit=investing&is_video=false&size=500&after=11d\n",
      "Querying from: https://api.pushshift.io/reddit/search/submission?subreddit=investing&is_video=false&size=500&after=12d\n",
      "Querying from: https://api.pushshift.io/reddit/search/submission?subreddit=investing&is_video=false&size=500&after=13d\n",
      "Querying from: https://api.pushshift.io/reddit/search/submission?subreddit=investing&is_video=false&size=500&after=14d\n",
      "Querying from: https://api.pushshift.io/reddit/search/submission?subreddit=investing&is_video=false&size=500&after=15d\n",
      "Querying from: https://api.pushshift.io/reddit/search/submission?subreddit=investing&is_video=false&size=500&after=16d\n",
      "Querying from: https://api.pushshift.io/reddit/search/submission?subreddit=investing&is_video=false&size=500&after=17d\n",
      "Querying from: https://api.pushshift.io/reddit/search/submission?subreddit=investing&is_video=false&size=500&after=18d\n",
      "Querying from: https://api.pushshift.io/reddit/search/submission?subreddit=investing&is_video=false&size=500&after=19d\n",
      "Querying from: https://api.pushshift.io/reddit/search/submission?subreddit=investing&is_video=false&size=500&after=20d\n",
      "Querying from: https://api.pushshift.io/reddit/search/submission?subreddit=investing&is_video=false&size=500&after=21d\n",
      "Querying from: https://api.pushshift.io/reddit/search/submission?subreddit=investing&is_video=false&size=500&after=22d\n",
      "Querying from: https://api.pushshift.io/reddit/search/submission?subreddit=investing&is_video=false&size=500&after=23d\n",
      "Querying from: https://api.pushshift.io/reddit/search/submission?subreddit=investing&is_video=false&size=500&after=24d\n",
      "Querying from: https://api.pushshift.io/reddit/search/submission?subreddit=investing&is_video=false&size=500&after=25d\n",
      "Querying from: https://api.pushshift.io/reddit/search/submission?subreddit=investing&is_video=false&size=500&after=26d\n",
      "Querying from: https://api.pushshift.io/reddit/search/submission?subreddit=investing&is_video=false&size=500&after=27d\n",
      "Querying from: https://api.pushshift.io/reddit/search/submission?subreddit=investing&is_video=false&size=500&after=28d\n",
      "Querying from: https://api.pushshift.io/reddit/search/submission?subreddit=investing&is_video=false&size=500&after=29d\n",
      "Querying from: https://api.pushshift.io/reddit/search/submission?subreddit=investing&is_video=false&size=500&after=30d\n",
      "Querying from: https://api.pushshift.io/reddit/search/submission?subreddit=investing&is_video=false&size=500&after=31d\n",
      "Querying from: https://api.pushshift.io/reddit/search/submission?subreddit=investing&is_video=false&size=500&after=32d\n",
      "Querying from: https://api.pushshift.io/reddit/search/submission?subreddit=investing&is_video=false&size=500&after=33d\n",
      "Querying from: https://api.pushshift.io/reddit/search/submission?subreddit=investing&is_video=false&size=500&after=34d\n",
      "Querying from: https://api.pushshift.io/reddit/search/submission?subreddit=investing&is_video=false&size=500&after=35d\n",
      "Querying from: https://api.pushshift.io/reddit/search/submission?subreddit=investing&is_video=false&size=500&after=36d\n",
      "Querying from: https://api.pushshift.io/reddit/search/submission?subreddit=investing&is_video=false&size=500&after=37d\n",
      "Querying from: https://api.pushshift.io/reddit/search/submission?subreddit=investing&is_video=false&size=500&after=38d\n",
      "Querying from: https://api.pushshift.io/reddit/search/submission?subreddit=investing&is_video=false&size=500&after=39d\n",
      "Querying from: https://api.pushshift.io/reddit/search/submission?subreddit=investing&is_video=false&size=500&after=40d\n",
      "Querying from: https://api.pushshift.io/reddit/search/submission?subreddit=investing&is_video=false&size=500&after=41d\n",
      "Querying from: https://api.pushshift.io/reddit/search/submission?subreddit=investing&is_video=false&size=500&after=42d\n",
      "Querying from: https://api.pushshift.io/reddit/search/submission?subreddit=investing&is_video=false&size=500&after=43d\n",
      "Querying from: https://api.pushshift.io/reddit/search/submission?subreddit=investing&is_video=false&size=500&after=44d\n",
      "Querying from: https://api.pushshift.io/reddit/search/submission?subreddit=investing&is_video=false&size=500&after=45d\n",
      "Querying from: https://api.pushshift.io/reddit/search/submission?subreddit=investing&is_video=false&size=500&after=46d\n",
      "Querying from: https://api.pushshift.io/reddit/search/submission?subreddit=investing&is_video=false&size=500&after=47d\n",
      "Querying from: https://api.pushshift.io/reddit/search/submission?subreddit=investing&is_video=false&size=500&after=48d\n",
      "Querying from: https://api.pushshift.io/reddit/search/submission?subreddit=investing&is_video=false&size=500&after=49d\n",
      "Querying from: https://api.pushshift.io/reddit/search/submission?subreddit=investing&is_video=false&size=500&after=50d\n",
      "Querying from: https://api.pushshift.io/reddit/search/submission?subreddit=investing&is_video=false&size=500&after=51d\n",
      "Querying from: https://api.pushshift.io/reddit/search/submission?subreddit=investing&is_video=false&size=500&after=52d\n",
      "Querying from: https://api.pushshift.io/reddit/search/submission?subreddit=investing&is_video=false&size=500&after=53d\n",
      "Querying from: https://api.pushshift.io/reddit/search/submission?subreddit=investing&is_video=false&size=500&after=54d\n",
      "Querying from: https://api.pushshift.io/reddit/search/submission?subreddit=investing&is_video=false&size=500&after=55d\n",
      "Querying from: https://api.pushshift.io/reddit/search/submission?subreddit=investing&is_video=false&size=500&after=56d\n",
      "Querying from: https://api.pushshift.io/reddit/search/submission?subreddit=investing&is_video=false&size=500&after=57d\n",
      "Querying from: https://api.pushshift.io/reddit/search/submission?subreddit=investing&is_video=false&size=500&after=58d\n",
      "Querying from: https://api.pushshift.io/reddit/search/submission?subreddit=investing&is_video=false&size=500&after=59d\n",
      "Querying from: https://api.pushshift.io/reddit/search/submission?subreddit=investing&is_video=false&size=500&after=60d\n",
      "Querying from: https://api.pushshift.io/reddit/search/submission?subreddit=investing&is_video=false&size=500&after=61d\n",
      "Querying from: https://api.pushshift.io/reddit/search/submission?subreddit=investing&is_video=false&size=500&after=62d\n",
      "Querying from: https://api.pushshift.io/reddit/search/submission?subreddit=investing&is_video=false&size=500&after=63d\n",
      "Querying from: https://api.pushshift.io/reddit/search/submission?subreddit=investing&is_video=false&size=500&after=64d\n",
      "Querying from: https://api.pushshift.io/reddit/search/submission?subreddit=investing&is_video=false&size=500&after=65d\n",
      "Querying from: https://api.pushshift.io/reddit/search/submission?subreddit=investing&is_video=false&size=500&after=66d\n",
      "Querying from: https://api.pushshift.io/reddit/search/submission?subreddit=investing&is_video=false&size=500&after=67d\n",
      "Querying from: https://api.pushshift.io/reddit/search/submission?subreddit=investing&is_video=false&size=500&after=68d\n",
      "Querying from: https://api.pushshift.io/reddit/search/submission?subreddit=investing&is_video=false&size=500&after=69d\n"
     ]
    },
    {
     "name": "stdout",
     "output_type": "stream",
     "text": [
      "Querying from: https://api.pushshift.io/reddit/search/submission?subreddit=investing&is_video=false&size=500&after=70d\n",
      "Querying from: https://api.pushshift.io/reddit/search/submission?subreddit=investing&is_video=false&size=500&after=71d\n",
      "Querying from: https://api.pushshift.io/reddit/search/submission?subreddit=investing&is_video=false&size=500&after=72d\n",
      "Querying from: https://api.pushshift.io/reddit/search/submission?subreddit=investing&is_video=false&size=500&after=73d\n",
      "Querying from: https://api.pushshift.io/reddit/search/submission?subreddit=investing&is_video=false&size=500&after=74d\n",
      "Querying from: https://api.pushshift.io/reddit/search/submission?subreddit=investing&is_video=false&size=500&after=75d\n",
      "Querying from: https://api.pushshift.io/reddit/search/submission?subreddit=investing&is_video=false&size=500&after=76d\n",
      "Querying from: https://api.pushshift.io/reddit/search/submission?subreddit=investing&is_video=false&size=500&after=77d\n",
      "Querying from: https://api.pushshift.io/reddit/search/submission?subreddit=investing&is_video=false&size=500&after=78d\n",
      "Querying from: https://api.pushshift.io/reddit/search/submission?subreddit=investing&is_video=false&size=500&after=79d\n",
      "Querying from: https://api.pushshift.io/reddit/search/submission?subreddit=investing&is_video=false&size=500&after=80d\n",
      "Querying from: https://api.pushshift.io/reddit/search/submission?subreddit=investing&is_video=false&size=500&after=81d\n",
      "Querying from: https://api.pushshift.io/reddit/search/submission?subreddit=investing&is_video=false&size=500&after=82d\n",
      "Querying from: https://api.pushshift.io/reddit/search/submission?subreddit=investing&is_video=false&size=500&after=83d\n",
      "Querying from: https://api.pushshift.io/reddit/search/submission?subreddit=investing&is_video=false&size=500&after=84d\n",
      "Querying from: https://api.pushshift.io/reddit/search/submission?subreddit=investing&is_video=false&size=500&after=85d\n",
      "Querying from: https://api.pushshift.io/reddit/search/submission?subreddit=investing&is_video=false&size=500&after=86d\n",
      "Querying from: https://api.pushshift.io/reddit/search/submission?subreddit=investing&is_video=false&size=500&after=87d\n",
      "Querying from: https://api.pushshift.io/reddit/search/submission?subreddit=investing&is_video=false&size=500&after=88d\n",
      "Querying from: https://api.pushshift.io/reddit/search/submission?subreddit=investing&is_video=false&size=500&after=89d\n",
      "Querying from: https://api.pushshift.io/reddit/search/submission?subreddit=investing&is_video=false&size=500&after=90d\n",
      "Querying from: https://api.pushshift.io/reddit/search/submission?subreddit=investing&is_video=false&size=500&after=91d\n",
      "Querying from: https://api.pushshift.io/reddit/search/submission?subreddit=investing&is_video=false&size=500&after=92d\n",
      "Querying from: https://api.pushshift.io/reddit/search/submission?subreddit=investing&is_video=false&size=500&after=93d\n",
      "Querying from: https://api.pushshift.io/reddit/search/submission?subreddit=investing&is_video=false&size=500&after=94d\n",
      "Querying from: https://api.pushshift.io/reddit/search/submission?subreddit=investing&is_video=false&size=500&after=95d\n",
      "Querying from: https://api.pushshift.io/reddit/search/submission?subreddit=investing&is_video=false&size=500&after=96d\n",
      "Querying from: https://api.pushshift.io/reddit/search/submission?subreddit=investing&is_video=false&size=500&after=97d\n",
      "Querying from: https://api.pushshift.io/reddit/search/submission?subreddit=investing&is_video=false&size=500&after=98d\n",
      "Querying from: https://api.pushshift.io/reddit/search/submission?subreddit=investing&is_video=false&size=500&after=99d\n",
      "Querying from: https://api.pushshift.io/reddit/search/submission?subreddit=investing&is_video=false&size=500&after=100d\n",
      "Querying from: https://api.pushshift.io/reddit/search/submission?subreddit=investing&is_video=false&size=500&after=101d\n",
      "Querying from: https://api.pushshift.io/reddit/search/submission?subreddit=investing&is_video=false&size=500&after=102d\n",
      "Querying from: https://api.pushshift.io/reddit/search/submission?subreddit=investing&is_video=false&size=500&after=103d\n",
      "Querying from: https://api.pushshift.io/reddit/search/submission?subreddit=investing&is_video=false&size=500&after=104d\n",
      "Querying from: https://api.pushshift.io/reddit/search/submission?subreddit=investing&is_video=false&size=500&after=105d\n",
      "Querying from: https://api.pushshift.io/reddit/search/submission?subreddit=investing&is_video=false&size=500&after=106d\n",
      "Querying from: https://api.pushshift.io/reddit/search/submission?subreddit=investing&is_video=false&size=500&after=107d\n",
      "Querying from: https://api.pushshift.io/reddit/search/submission?subreddit=investing&is_video=false&size=500&after=108d\n",
      "Querying from: https://api.pushshift.io/reddit/search/submission?subreddit=investing&is_video=false&size=500&after=109d\n",
      "Querying from: https://api.pushshift.io/reddit/search/submission?subreddit=investing&is_video=false&size=500&after=110d\n",
      "Querying from: https://api.pushshift.io/reddit/search/submission?subreddit=investing&is_video=false&size=500&after=111d\n",
      "Querying from: https://api.pushshift.io/reddit/search/submission?subreddit=investing&is_video=false&size=500&after=112d\n",
      "Querying from: https://api.pushshift.io/reddit/search/submission?subreddit=investing&is_video=false&size=500&after=113d\n",
      "Querying from: https://api.pushshift.io/reddit/search/submission?subreddit=investing&is_video=false&size=500&after=114d\n",
      "Querying from: https://api.pushshift.io/reddit/search/submission?subreddit=investing&is_video=false&size=500&after=115d\n",
      "Querying from: https://api.pushshift.io/reddit/search/submission?subreddit=investing&is_video=false&size=500&after=116d\n",
      "Querying from: https://api.pushshift.io/reddit/search/submission?subreddit=investing&is_video=false&size=500&after=117d\n",
      "Querying from: https://api.pushshift.io/reddit/search/submission?subreddit=investing&is_video=false&size=500&after=118d\n",
      "Querying from: https://api.pushshift.io/reddit/search/submission?subreddit=investing&is_video=false&size=500&after=119d\n",
      "Querying from: https://api.pushshift.io/reddit/search/submission?subreddit=investing&is_video=false&size=500&after=120d\n",
      "Querying from: https://api.pushshift.io/reddit/search/submission?subreddit=investing&is_video=false&size=500&after=121d\n",
      "Querying from: https://api.pushshift.io/reddit/search/submission?subreddit=investing&is_video=false&size=500&after=122d\n",
      "Querying from: https://api.pushshift.io/reddit/search/submission?subreddit=investing&is_video=false&size=500&after=123d\n",
      "Querying from: https://api.pushshift.io/reddit/search/submission?subreddit=investing&is_video=false&size=500&after=124d\n",
      "Querying from: https://api.pushshift.io/reddit/search/submission?subreddit=investing&is_video=false&size=500&after=125d\n",
      "Querying from: https://api.pushshift.io/reddit/search/submission?subreddit=investing&is_video=false&size=500&after=126d\n",
      "Querying from: https://api.pushshift.io/reddit/search/submission?subreddit=investing&is_video=false&size=500&after=127d\n",
      "Querying from: https://api.pushshift.io/reddit/search/submission?subreddit=investing&is_video=false&size=500&after=128d\n",
      "Querying from: https://api.pushshift.io/reddit/search/submission?subreddit=investing&is_video=false&size=500&after=129d\n",
      "Querying from: https://api.pushshift.io/reddit/search/submission?subreddit=investing&is_video=false&size=500&after=130d\n",
      "Querying from: https://api.pushshift.io/reddit/search/submission?subreddit=investing&is_video=false&size=500&after=131d\n",
      "Querying from: https://api.pushshift.io/reddit/search/submission?subreddit=investing&is_video=false&size=500&after=132d\n",
      "Querying from: https://api.pushshift.io/reddit/search/submission?subreddit=investing&is_video=false&size=500&after=133d\n",
      "Querying from: https://api.pushshift.io/reddit/search/submission?subreddit=investing&is_video=false&size=500&after=134d\n",
      "Querying from: https://api.pushshift.io/reddit/search/submission?subreddit=investing&is_video=false&size=500&after=135d\n",
      "Querying from: https://api.pushshift.io/reddit/search/submission?subreddit=investing&is_video=false&size=500&after=136d\n",
      "Querying from: https://api.pushshift.io/reddit/search/submission?subreddit=investing&is_video=false&size=500&after=137d\n",
      "Querying from: https://api.pushshift.io/reddit/search/submission?subreddit=investing&is_video=false&size=500&after=138d\n"
     ]
    },
    {
     "name": "stdout",
     "output_type": "stream",
     "text": [
      "Querying from: https://api.pushshift.io/reddit/search/submission?subreddit=investing&is_video=false&size=500&after=139d\n",
      "Querying from: https://api.pushshift.io/reddit/search/submission?subreddit=investing&is_video=false&size=500&after=140d\n",
      "Querying from: https://api.pushshift.io/reddit/search/submission?subreddit=investing&is_video=false&size=500&after=141d\n",
      "Querying from: https://api.pushshift.io/reddit/search/submission?subreddit=investing&is_video=false&size=500&after=142d\n",
      "Querying from: https://api.pushshift.io/reddit/search/submission?subreddit=investing&is_video=false&size=500&after=143d\n",
      "Querying from: https://api.pushshift.io/reddit/search/submission?subreddit=investing&is_video=false&size=500&after=144d\n",
      "Querying from: https://api.pushshift.io/reddit/search/submission?subreddit=investing&is_video=false&size=500&after=145d\n",
      "Querying from: https://api.pushshift.io/reddit/search/submission?subreddit=investing&is_video=false&size=500&after=146d\n",
      "Querying from: https://api.pushshift.io/reddit/search/submission?subreddit=investing&is_video=false&size=500&after=147d\n",
      "Querying from: https://api.pushshift.io/reddit/search/submission?subreddit=investing&is_video=false&size=500&after=148d\n",
      "Querying from: https://api.pushshift.io/reddit/search/submission?subreddit=investing&is_video=false&size=500&after=149d\n",
      "Querying from: https://api.pushshift.io/reddit/search/submission?subreddit=investing&is_video=false&size=500&after=150d\n",
      "Querying from: https://api.pushshift.io/reddit/search/submission?subreddit=investing&is_video=false&size=500&after=151d\n",
      "Querying from: https://api.pushshift.io/reddit/search/submission?subreddit=investing&is_video=false&size=500&after=152d\n",
      "Querying from: https://api.pushshift.io/reddit/search/submission?subreddit=investing&is_video=false&size=500&after=153d\n",
      "Querying from: https://api.pushshift.io/reddit/search/submission?subreddit=investing&is_video=false&size=500&after=154d\n",
      "Querying from: https://api.pushshift.io/reddit/search/submission?subreddit=investing&is_video=false&size=500&after=155d\n",
      "Querying from: https://api.pushshift.io/reddit/search/submission?subreddit=investing&is_video=false&size=500&after=156d\n",
      "Querying from: https://api.pushshift.io/reddit/search/submission?subreddit=investing&is_video=false&size=500&after=157d\n",
      "Querying from: https://api.pushshift.io/reddit/search/submission?subreddit=investing&is_video=false&size=500&after=158d\n",
      "Querying from: https://api.pushshift.io/reddit/search/submission?subreddit=investing&is_video=false&size=500&after=159d\n",
      "Querying from: https://api.pushshift.io/reddit/search/submission?subreddit=investing&is_video=false&size=500&after=160d\n",
      "Querying from: https://api.pushshift.io/reddit/search/submission?subreddit=investing&is_video=false&size=500&after=161d\n",
      "Querying from: https://api.pushshift.io/reddit/search/submission?subreddit=investing&is_video=false&size=500&after=162d\n",
      "Querying from: https://api.pushshift.io/reddit/search/submission?subreddit=investing&is_video=false&size=500&after=163d\n",
      "Querying from: https://api.pushshift.io/reddit/search/submission?subreddit=investing&is_video=false&size=500&after=164d\n",
      "Querying from: https://api.pushshift.io/reddit/search/submission?subreddit=investing&is_video=false&size=500&after=165d\n",
      "Querying from: https://api.pushshift.io/reddit/search/submission?subreddit=investing&is_video=false&size=500&after=166d\n",
      "Querying from: https://api.pushshift.io/reddit/search/submission?subreddit=investing&is_video=false&size=500&after=167d\n",
      "Querying from: https://api.pushshift.io/reddit/search/submission?subreddit=investing&is_video=false&size=500&after=168d\n",
      "Querying from: https://api.pushshift.io/reddit/search/submission?subreddit=investing&is_video=false&size=500&after=169d\n",
      "Querying from: https://api.pushshift.io/reddit/search/submission?subreddit=investing&is_video=false&size=500&after=170d\n",
      "Querying from: https://api.pushshift.io/reddit/search/submission?subreddit=investing&is_video=false&size=500&after=171d\n",
      "Querying from: https://api.pushshift.io/reddit/search/submission?subreddit=investing&is_video=false&size=500&after=172d\n",
      "Querying from: https://api.pushshift.io/reddit/search/submission?subreddit=investing&is_video=false&size=500&after=173d\n",
      "Querying from: https://api.pushshift.io/reddit/search/submission?subreddit=investing&is_video=false&size=500&after=174d\n",
      "Querying from: https://api.pushshift.io/reddit/search/submission?subreddit=investing&is_video=false&size=500&after=175d\n",
      "Querying from: https://api.pushshift.io/reddit/search/submission?subreddit=investing&is_video=false&size=500&after=176d\n",
      "Querying from: https://api.pushshift.io/reddit/search/submission?subreddit=investing&is_video=false&size=500&after=177d\n",
      "Querying from: https://api.pushshift.io/reddit/search/submission?subreddit=investing&is_video=false&size=500&after=178d\n",
      "Querying from: https://api.pushshift.io/reddit/search/submission?subreddit=investing&is_video=false&size=500&after=179d\n",
      "Querying from: https://api.pushshift.io/reddit/search/submission?subreddit=investing&is_video=false&size=500&after=180d\n",
      "Querying from: https://api.pushshift.io/reddit/search/submission?subreddit=investing&is_video=false&size=500&after=181d\n",
      "Querying from: https://api.pushshift.io/reddit/search/submission?subreddit=investing&is_video=false&size=500&after=182d\n",
      "Querying from: https://api.pushshift.io/reddit/search/submission?subreddit=investing&is_video=false&size=500&after=183d\n",
      "Querying from: https://api.pushshift.io/reddit/search/submission?subreddit=investing&is_video=false&size=500&after=184d\n",
      "Querying from: https://api.pushshift.io/reddit/search/submission?subreddit=investing&is_video=false&size=500&after=185d\n",
      "Querying from: https://api.pushshift.io/reddit/search/submission?subreddit=investing&is_video=false&size=500&after=186d\n",
      "Querying from: https://api.pushshift.io/reddit/search/submission?subreddit=investing&is_video=false&size=500&after=187d\n",
      "Querying from: https://api.pushshift.io/reddit/search/submission?subreddit=investing&is_video=false&size=500&after=188d\n",
      "Querying from: https://api.pushshift.io/reddit/search/submission?subreddit=investing&is_video=false&size=500&after=189d\n",
      "Querying from: https://api.pushshift.io/reddit/search/submission?subreddit=investing&is_video=false&size=500&after=190d\n",
      "Querying from: https://api.pushshift.io/reddit/search/submission?subreddit=investing&is_video=false&size=500&after=191d\n",
      "Querying from: https://api.pushshift.io/reddit/search/submission?subreddit=investing&is_video=false&size=500&after=192d\n",
      "Querying from: https://api.pushshift.io/reddit/search/submission?subreddit=investing&is_video=false&size=500&after=193d\n",
      "Querying from: https://api.pushshift.io/reddit/search/submission?subreddit=investing&is_video=false&size=500&after=194d\n",
      "Querying from: https://api.pushshift.io/reddit/search/submission?subreddit=investing&is_video=false&size=500&after=195d\n",
      "Querying from: https://api.pushshift.io/reddit/search/submission?subreddit=investing&is_video=false&size=500&after=196d\n",
      "Querying from: https://api.pushshift.io/reddit/search/submission?subreddit=investing&is_video=false&size=500&after=197d\n",
      "Querying from: https://api.pushshift.io/reddit/search/submission?subreddit=investing&is_video=false&size=500&after=198d\n",
      "Querying from: https://api.pushshift.io/reddit/search/submission?subreddit=investing&is_video=false&size=500&after=199d\n",
      "Querying from: https://api.pushshift.io/reddit/search/submission?subreddit=investing&is_video=false&size=500&after=200d\n",
      "Querying from: https://api.pushshift.io/reddit/search/submission?subreddit=investing&is_video=false&size=500&after=201d\n",
      "Querying from: https://api.pushshift.io/reddit/search/submission?subreddit=investing&is_video=false&size=500&after=202d\n",
      "Querying from: https://api.pushshift.io/reddit/search/submission?subreddit=investing&is_video=false&size=500&after=203d\n",
      "Querying from: https://api.pushshift.io/reddit/search/submission?subreddit=investing&is_video=false&size=500&after=204d\n",
      "Querying from: https://api.pushshift.io/reddit/search/submission?subreddit=investing&is_video=false&size=500&after=205d\n",
      "Querying from: https://api.pushshift.io/reddit/search/submission?subreddit=investing&is_video=false&size=500&after=206d\n",
      "Querying from: https://api.pushshift.io/reddit/search/submission?subreddit=investing&is_video=false&size=500&after=207d\n"
     ]
    },
    {
     "name": "stdout",
     "output_type": "stream",
     "text": [
      "Querying from: https://api.pushshift.io/reddit/search/submission?subreddit=investing&is_video=false&size=500&after=208d\n",
      "Querying from: https://api.pushshift.io/reddit/search/submission?subreddit=investing&is_video=false&size=500&after=209d\n",
      "Querying from: https://api.pushshift.io/reddit/search/submission?subreddit=investing&is_video=false&size=500&after=210d\n",
      "Querying from: https://api.pushshift.io/reddit/search/submission?subreddit=investing&is_video=false&size=500&after=211d\n",
      "Querying from: https://api.pushshift.io/reddit/search/submission?subreddit=investing&is_video=false&size=500&after=212d\n",
      "Querying from: https://api.pushshift.io/reddit/search/submission?subreddit=investing&is_video=false&size=500&after=213d\n",
      "Querying from: https://api.pushshift.io/reddit/search/submission?subreddit=investing&is_video=false&size=500&after=214d\n",
      "Querying from: https://api.pushshift.io/reddit/search/submission?subreddit=investing&is_video=false&size=500&after=215d\n",
      "Querying from: https://api.pushshift.io/reddit/search/submission?subreddit=investing&is_video=false&size=500&after=216d\n",
      "Querying from: https://api.pushshift.io/reddit/search/submission?subreddit=investing&is_video=false&size=500&after=217d\n",
      "Querying from: https://api.pushshift.io/reddit/search/submission?subreddit=investing&is_video=false&size=500&after=218d\n",
      "Querying from: https://api.pushshift.io/reddit/search/submission?subreddit=investing&is_video=false&size=500&after=219d\n",
      "Querying from: https://api.pushshift.io/reddit/search/submission?subreddit=investing&is_video=false&size=500&after=220d\n",
      "Querying from: https://api.pushshift.io/reddit/search/submission?subreddit=investing&is_video=false&size=500&after=221d\n",
      "Querying from: https://api.pushshift.io/reddit/search/submission?subreddit=investing&is_video=false&size=500&after=222d\n",
      "Querying from: https://api.pushshift.io/reddit/search/submission?subreddit=investing&is_video=false&size=500&after=223d\n",
      "Querying from: https://api.pushshift.io/reddit/search/submission?subreddit=investing&is_video=false&size=500&after=224d\n",
      "Querying from: https://api.pushshift.io/reddit/search/submission?subreddit=investing&is_video=false&size=500&after=225d\n",
      "Querying from: https://api.pushshift.io/reddit/search/submission?subreddit=investing&is_video=false&size=500&after=226d\n",
      "Querying from: https://api.pushshift.io/reddit/search/submission?subreddit=investing&is_video=false&size=500&after=227d\n",
      "Querying from: https://api.pushshift.io/reddit/search/submission?subreddit=investing&is_video=false&size=500&after=228d\n",
      "Querying from: https://api.pushshift.io/reddit/search/submission?subreddit=investing&is_video=false&size=500&after=229d\n",
      "Querying from: https://api.pushshift.io/reddit/search/submission?subreddit=investing&is_video=false&size=500&after=230d\n",
      "Querying from: https://api.pushshift.io/reddit/search/submission?subreddit=investing&is_video=false&size=500&after=231d\n",
      "Querying from: https://api.pushshift.io/reddit/search/submission?subreddit=investing&is_video=false&size=500&after=232d\n",
      "Querying from: https://api.pushshift.io/reddit/search/submission?subreddit=investing&is_video=false&size=500&after=233d\n",
      "Querying from: https://api.pushshift.io/reddit/search/submission?subreddit=investing&is_video=false&size=500&after=234d\n",
      "Querying from: https://api.pushshift.io/reddit/search/submission?subreddit=investing&is_video=false&size=500&after=235d\n",
      "Querying from: https://api.pushshift.io/reddit/search/submission?subreddit=investing&is_video=false&size=500&after=236d\n",
      "Querying from: https://api.pushshift.io/reddit/search/submission?subreddit=investing&is_video=false&size=500&after=237d\n",
      "Querying from: https://api.pushshift.io/reddit/search/submission?subreddit=investing&is_video=false&size=500&after=238d\n",
      "Querying from: https://api.pushshift.io/reddit/search/submission?subreddit=investing&is_video=false&size=500&after=239d\n",
      "Querying from: https://api.pushshift.io/reddit/search/submission?subreddit=investing&is_video=false&size=500&after=240d\n",
      "Querying from: https://api.pushshift.io/reddit/search/submission?subreddit=investing&is_video=false&size=500&after=241d\n",
      "Querying from: https://api.pushshift.io/reddit/search/submission?subreddit=investing&is_video=false&size=500&after=242d\n",
      "Querying from: https://api.pushshift.io/reddit/search/submission?subreddit=investing&is_video=false&size=500&after=243d\n",
      "Querying from: https://api.pushshift.io/reddit/search/submission?subreddit=investing&is_video=false&size=500&after=244d\n",
      "Querying from: https://api.pushshift.io/reddit/search/submission?subreddit=investing&is_video=false&size=500&after=245d\n",
      "Querying from: https://api.pushshift.io/reddit/search/submission?subreddit=investing&is_video=false&size=500&after=246d\n",
      "Querying from: https://api.pushshift.io/reddit/search/submission?subreddit=investing&is_video=false&size=500&after=247d\n",
      "Querying from: https://api.pushshift.io/reddit/search/submission?subreddit=investing&is_video=false&size=500&after=248d\n",
      "Querying from: https://api.pushshift.io/reddit/search/submission?subreddit=investing&is_video=false&size=500&after=249d\n",
      "Querying from: https://api.pushshift.io/reddit/search/submission?subreddit=investing&is_video=false&size=500&after=250d\n",
      "Querying from: https://api.pushshift.io/reddit/search/submission?subreddit=investing&is_video=false&size=500&after=251d\n",
      "Querying from: https://api.pushshift.io/reddit/search/submission?subreddit=investing&is_video=false&size=500&after=252d\n",
      "Querying from: https://api.pushshift.io/reddit/search/submission?subreddit=investing&is_video=false&size=500&after=253d\n",
      "Querying from: https://api.pushshift.io/reddit/search/submission?subreddit=investing&is_video=false&size=500&after=254d\n",
      "Querying from: https://api.pushshift.io/reddit/search/submission?subreddit=investing&is_video=false&size=500&after=255d\n",
      "Querying from: https://api.pushshift.io/reddit/search/submission?subreddit=investing&is_video=false&size=500&after=256d\n",
      "Querying from: https://api.pushshift.io/reddit/search/submission?subreddit=investing&is_video=false&size=500&after=257d\n",
      "Querying from: https://api.pushshift.io/reddit/search/submission?subreddit=investing&is_video=false&size=500&after=258d\n",
      "Querying from: https://api.pushshift.io/reddit/search/submission?subreddit=investing&is_video=false&size=500&after=259d\n",
      "Querying from: https://api.pushshift.io/reddit/search/submission?subreddit=investing&is_video=false&size=500&after=260d\n",
      "Querying from: https://api.pushshift.io/reddit/search/submission?subreddit=investing&is_video=false&size=500&after=261d\n",
      "Querying from: https://api.pushshift.io/reddit/search/submission?subreddit=investing&is_video=false&size=500&after=262d\n",
      "Querying from: https://api.pushshift.io/reddit/search/submission?subreddit=investing&is_video=false&size=500&after=263d\n",
      "Querying from: https://api.pushshift.io/reddit/search/submission?subreddit=investing&is_video=false&size=500&after=264d\n",
      "Querying from: https://api.pushshift.io/reddit/search/submission?subreddit=investing&is_video=false&size=500&after=265d\n",
      "Querying from: https://api.pushshift.io/reddit/search/submission?subreddit=investing&is_video=false&size=500&after=266d\n",
      "Querying from: https://api.pushshift.io/reddit/search/submission?subreddit=investing&is_video=false&size=500&after=267d\n",
      "Querying from: https://api.pushshift.io/reddit/search/submission?subreddit=investing&is_video=false&size=500&after=268d\n",
      "Querying from: https://api.pushshift.io/reddit/search/submission?subreddit=investing&is_video=false&size=500&after=269d\n",
      "Querying from: https://api.pushshift.io/reddit/search/submission?subreddit=investing&is_video=false&size=500&after=270d\n",
      "Querying from: https://api.pushshift.io/reddit/search/submission?subreddit=investing&is_video=false&size=500&after=271d\n",
      "Querying from: https://api.pushshift.io/reddit/search/submission?subreddit=investing&is_video=false&size=500&after=272d\n",
      "Querying from: https://api.pushshift.io/reddit/search/submission?subreddit=investing&is_video=false&size=500&after=273d\n",
      "Querying from: https://api.pushshift.io/reddit/search/submission?subreddit=investing&is_video=false&size=500&after=274d\n",
      "Querying from: https://api.pushshift.io/reddit/search/submission?subreddit=investing&is_video=false&size=500&after=275d\n",
      "Querying from: https://api.pushshift.io/reddit/search/submission?subreddit=investing&is_video=false&size=500&after=276d\n"
     ]
    },
    {
     "name": "stdout",
     "output_type": "stream",
     "text": [
      "Querying from: https://api.pushshift.io/reddit/search/submission?subreddit=investing&is_video=false&size=500&after=277d\n",
      "Querying from: https://api.pushshift.io/reddit/search/submission?subreddit=investing&is_video=false&size=500&after=278d\n",
      "Querying from: https://api.pushshift.io/reddit/search/submission?subreddit=investing&is_video=false&size=500&after=279d\n",
      "Querying from: https://api.pushshift.io/reddit/search/submission?subreddit=investing&is_video=false&size=500&after=280d\n",
      "Querying from: https://api.pushshift.io/reddit/search/submission?subreddit=investing&is_video=false&size=500&after=281d\n",
      "Querying from: https://api.pushshift.io/reddit/search/submission?subreddit=investing&is_video=false&size=500&after=282d\n",
      "Querying from: https://api.pushshift.io/reddit/search/submission?subreddit=investing&is_video=false&size=500&after=283d\n",
      "Querying from: https://api.pushshift.io/reddit/search/submission?subreddit=investing&is_video=false&size=500&after=284d\n",
      "Querying from: https://api.pushshift.io/reddit/search/submission?subreddit=investing&is_video=false&size=500&after=285d\n",
      "Querying from: https://api.pushshift.io/reddit/search/submission?subreddit=investing&is_video=false&size=500&after=286d\n",
      "Querying from: https://api.pushshift.io/reddit/search/submission?subreddit=investing&is_video=false&size=500&after=287d\n",
      "Querying from: https://api.pushshift.io/reddit/search/submission?subreddit=investing&is_video=false&size=500&after=288d\n",
      "Querying from: https://api.pushshift.io/reddit/search/submission?subreddit=investing&is_video=false&size=500&after=289d\n",
      "Querying from: https://api.pushshift.io/reddit/search/submission?subreddit=investing&is_video=false&size=500&after=290d\n",
      "Querying from: https://api.pushshift.io/reddit/search/submission?subreddit=investing&is_video=false&size=500&after=291d\n",
      "Querying from: https://api.pushshift.io/reddit/search/submission?subreddit=investing&is_video=false&size=500&after=292d\n",
      "Querying from: https://api.pushshift.io/reddit/search/submission?subreddit=investing&is_video=false&size=500&after=293d\n",
      "Querying from: https://api.pushshift.io/reddit/search/submission?subreddit=investing&is_video=false&size=500&after=294d\n",
      "Querying from: https://api.pushshift.io/reddit/search/submission?subreddit=investing&is_video=false&size=500&after=295d\n",
      "Querying from: https://api.pushshift.io/reddit/search/submission?subreddit=investing&is_video=false&size=500&after=296d\n",
      "Querying from: https://api.pushshift.io/reddit/search/submission?subreddit=investing&is_video=false&size=500&after=297d\n",
      "Querying from: https://api.pushshift.io/reddit/search/submission?subreddit=investing&is_video=false&size=500&after=298d\n",
      "Querying from: https://api.pushshift.io/reddit/search/submission?subreddit=investing&is_video=false&size=500&after=299d\n",
      "Querying from: https://api.pushshift.io/reddit/search/submission?subreddit=investing&is_video=false&size=500&after=300d\n",
      "Querying from: https://api.pushshift.io/reddit/search/submission?subreddit=investing&is_video=false&size=500&after=301d\n",
      "Querying from: https://api.pushshift.io/reddit/search/submission?subreddit=investing&is_video=false&size=500&after=302d\n",
      "Querying from: https://api.pushshift.io/reddit/search/submission?subreddit=investing&is_video=false&size=500&after=303d\n",
      "Querying from: https://api.pushshift.io/reddit/search/submission?subreddit=investing&is_video=false&size=500&after=304d\n",
      "Querying from: https://api.pushshift.io/reddit/search/submission?subreddit=investing&is_video=false&size=500&after=305d\n",
      "Querying from: https://api.pushshift.io/reddit/search/submission?subreddit=investing&is_video=false&size=500&after=306d\n",
      "Querying from: https://api.pushshift.io/reddit/search/submission?subreddit=investing&is_video=false&size=500&after=307d\n",
      "Querying from: https://api.pushshift.io/reddit/search/submission?subreddit=investing&is_video=false&size=500&after=308d\n",
      "Querying from: https://api.pushshift.io/reddit/search/submission?subreddit=investing&is_video=false&size=500&after=309d\n",
      "Querying from: https://api.pushshift.io/reddit/search/submission?subreddit=investing&is_video=false&size=500&after=310d\n",
      "Querying from: https://api.pushshift.io/reddit/search/submission?subreddit=investing&is_video=false&size=500&after=311d\n",
      "Querying from: https://api.pushshift.io/reddit/search/submission?subreddit=investing&is_video=false&size=500&after=312d\n",
      "Querying from: https://api.pushshift.io/reddit/search/submission?subreddit=investing&is_video=false&size=500&after=313d\n",
      "Querying from: https://api.pushshift.io/reddit/search/submission?subreddit=investing&is_video=false&size=500&after=314d\n",
      "Querying from: https://api.pushshift.io/reddit/search/submission?subreddit=investing&is_video=false&size=500&after=315d\n",
      "Querying from: https://api.pushshift.io/reddit/search/submission?subreddit=investing&is_video=false&size=500&after=316d\n",
      "Querying from: https://api.pushshift.io/reddit/search/submission?subreddit=investing&is_video=false&size=500&after=317d\n",
      "Querying from: https://api.pushshift.io/reddit/search/submission?subreddit=investing&is_video=false&size=500&after=318d\n",
      "Querying from: https://api.pushshift.io/reddit/search/submission?subreddit=investing&is_video=false&size=500&after=319d\n",
      "Querying from: https://api.pushshift.io/reddit/search/submission?subreddit=investing&is_video=false&size=500&after=320d\n",
      "Querying from: https://api.pushshift.io/reddit/search/submission?subreddit=investing&is_video=false&size=500&after=321d\n",
      "Querying from: https://api.pushshift.io/reddit/search/submission?subreddit=investing&is_video=false&size=500&after=322d\n",
      "Querying from: https://api.pushshift.io/reddit/search/submission?subreddit=investing&is_video=false&size=500&after=323d\n",
      "Querying from: https://api.pushshift.io/reddit/search/submission?subreddit=investing&is_video=false&size=500&after=324d\n",
      "Querying from: https://api.pushshift.io/reddit/search/submission?subreddit=investing&is_video=false&size=500&after=325d\n",
      "Querying from: https://api.pushshift.io/reddit/search/submission?subreddit=investing&is_video=false&size=500&after=326d\n",
      "Querying from: https://api.pushshift.io/reddit/search/submission?subreddit=investing&is_video=false&size=500&after=327d\n",
      "Querying from: https://api.pushshift.io/reddit/search/submission?subreddit=investing&is_video=false&size=500&after=328d\n",
      "Querying from: https://api.pushshift.io/reddit/search/submission?subreddit=investing&is_video=false&size=500&after=329d\n",
      "Querying from: https://api.pushshift.io/reddit/search/submission?subreddit=investing&is_video=false&size=500&after=330d\n",
      "Querying from: https://api.pushshift.io/reddit/search/submission?subreddit=investing&is_video=false&size=500&after=331d\n",
      "Querying from: https://api.pushshift.io/reddit/search/submission?subreddit=investing&is_video=false&size=500&after=332d\n",
      "Querying from: https://api.pushshift.io/reddit/search/submission?subreddit=investing&is_video=false&size=500&after=333d\n",
      "Querying from: https://api.pushshift.io/reddit/search/submission?subreddit=investing&is_video=false&size=500&after=334d\n",
      "Querying from: https://api.pushshift.io/reddit/search/submission?subreddit=investing&is_video=false&size=500&after=335d\n",
      "Querying from: https://api.pushshift.io/reddit/search/submission?subreddit=investing&is_video=false&size=500&after=336d\n",
      "Querying from: https://api.pushshift.io/reddit/search/submission?subreddit=investing&is_video=false&size=500&after=337d\n",
      "Querying from: https://api.pushshift.io/reddit/search/submission?subreddit=investing&is_video=false&size=500&after=338d\n",
      "Querying from: https://api.pushshift.io/reddit/search/submission?subreddit=investing&is_video=false&size=500&after=339d\n",
      "Querying from: https://api.pushshift.io/reddit/search/submission?subreddit=investing&is_video=false&size=500&after=340d\n",
      "Querying from: https://api.pushshift.io/reddit/search/submission?subreddit=investing&is_video=false&size=500&after=341d\n",
      "Querying from: https://api.pushshift.io/reddit/search/submission?subreddit=investing&is_video=false&size=500&after=342d\n",
      "Querying from: https://api.pushshift.io/reddit/search/submission?subreddit=investing&is_video=false&size=500&after=343d\n",
      "Querying from: https://api.pushshift.io/reddit/search/submission?subreddit=investing&is_video=false&size=500&after=344d\n",
      "Querying from: https://api.pushshift.io/reddit/search/submission?subreddit=investing&is_video=false&size=500&after=345d\n"
     ]
    },
    {
     "name": "stdout",
     "output_type": "stream",
     "text": [
      "Querying from: https://api.pushshift.io/reddit/search/submission?subreddit=investing&is_video=false&size=500&after=346d\n",
      "Querying from: https://api.pushshift.io/reddit/search/submission?subreddit=investing&is_video=false&size=500&after=347d\n",
      "Querying from: https://api.pushshift.io/reddit/search/submission?subreddit=investing&is_video=false&size=500&after=348d\n",
      "Querying from: https://api.pushshift.io/reddit/search/submission?subreddit=investing&is_video=false&size=500&after=349d\n",
      "Querying from: https://api.pushshift.io/reddit/search/submission?subreddit=investing&is_video=false&size=500&after=350d\n",
      "Querying from: https://api.pushshift.io/reddit/search/submission?subreddit=investing&is_video=false&size=500&after=351d\n",
      "Querying from: https://api.pushshift.io/reddit/search/submission?subreddit=investing&is_video=false&size=500&after=352d\n",
      "Querying from: https://api.pushshift.io/reddit/search/submission?subreddit=investing&is_video=false&size=500&after=353d\n",
      "Querying from: https://api.pushshift.io/reddit/search/submission?subreddit=investing&is_video=false&size=500&after=354d\n",
      "Querying from: https://api.pushshift.io/reddit/search/submission?subreddit=investing&is_video=false&size=500&after=355d\n",
      "Querying from: https://api.pushshift.io/reddit/search/submission?subreddit=investing&is_video=false&size=500&after=356d\n",
      "Querying from: https://api.pushshift.io/reddit/search/submission?subreddit=investing&is_video=false&size=500&after=357d\n",
      "Querying from: https://api.pushshift.io/reddit/search/submission?subreddit=investing&is_video=false&size=500&after=358d\n",
      "Querying from: https://api.pushshift.io/reddit/search/submission?subreddit=investing&is_video=false&size=500&after=359d\n",
      "Querying from: https://api.pushshift.io/reddit/search/submission?subreddit=investing&is_video=false&size=500&after=360d\n",
      "Querying from: https://api.pushshift.io/reddit/search/submission?subreddit=investing&is_video=false&size=500&after=361d\n",
      "Querying from: https://api.pushshift.io/reddit/search/submission?subreddit=investing&is_video=false&size=500&after=362d\n",
      "Querying from: https://api.pushshift.io/reddit/search/submission?subreddit=investing&is_video=false&size=500&after=363d\n",
      "Querying from: https://api.pushshift.io/reddit/search/submission?subreddit=investing&is_video=false&size=500&after=364d\n",
      "Querying from: https://api.pushshift.io/reddit/search/submission?subreddit=investing&is_video=false&size=500&after=365d\n",
      "Querying from: https://api.pushshift.io/reddit/search/submission?subreddit=investing&is_video=false&size=500&after=366d\n",
      "Querying from: https://api.pushshift.io/reddit/search/submission?subreddit=investing&is_video=false&size=500&after=367d\n",
      "Querying from: https://api.pushshift.io/reddit/search/submission?subreddit=investing&is_video=false&size=500&after=368d\n",
      "Querying from: https://api.pushshift.io/reddit/search/submission?subreddit=investing&is_video=false&size=500&after=369d\n",
      "Querying from: https://api.pushshift.io/reddit/search/submission?subreddit=investing&is_video=false&size=500&after=370d\n",
      "Querying from: https://api.pushshift.io/reddit/search/submission?subreddit=investing&is_video=false&size=500&after=371d\n",
      "Querying from: https://api.pushshift.io/reddit/search/submission?subreddit=investing&is_video=false&size=500&after=372d\n",
      "Querying from: https://api.pushshift.io/reddit/search/submission?subreddit=investing&is_video=false&size=500&after=373d\n",
      "Querying from: https://api.pushshift.io/reddit/search/submission?subreddit=investing&is_video=false&size=500&after=374d\n",
      "Querying from: https://api.pushshift.io/reddit/search/submission?subreddit=investing&is_video=false&size=500&after=375d\n",
      "Querying from: https://api.pushshift.io/reddit/search/submission?subreddit=investing&is_video=false&size=500&after=376d\n",
      "Querying from: https://api.pushshift.io/reddit/search/submission?subreddit=investing&is_video=false&size=500&after=377d\n",
      "Querying from: https://api.pushshift.io/reddit/search/submission?subreddit=investing&is_video=false&size=500&after=378d\n",
      "Querying from: https://api.pushshift.io/reddit/search/submission?subreddit=investing&is_video=false&size=500&after=379d\n",
      "Querying from: https://api.pushshift.io/reddit/search/submission?subreddit=investing&is_video=false&size=500&after=380d\n",
      "Querying from: https://api.pushshift.io/reddit/search/submission?subreddit=investing&is_video=false&size=500&after=381d\n",
      "Querying from: https://api.pushshift.io/reddit/search/submission?subreddit=investing&is_video=false&size=500&after=382d\n",
      "Querying from: https://api.pushshift.io/reddit/search/submission?subreddit=investing&is_video=false&size=500&after=383d\n",
      "Querying from: https://api.pushshift.io/reddit/search/submission?subreddit=investing&is_video=false&size=500&after=384d\n",
      "Querying from: https://api.pushshift.io/reddit/search/submission?subreddit=investing&is_video=false&size=500&after=385d\n",
      "Querying from: https://api.pushshift.io/reddit/search/submission?subreddit=investing&is_video=false&size=500&after=386d\n",
      "Querying from: https://api.pushshift.io/reddit/search/submission?subreddit=investing&is_video=false&size=500&after=387d\n",
      "Querying from: https://api.pushshift.io/reddit/search/submission?subreddit=investing&is_video=false&size=500&after=388d\n",
      "Querying from: https://api.pushshift.io/reddit/search/submission?subreddit=investing&is_video=false&size=500&after=389d\n",
      "Querying from: https://api.pushshift.io/reddit/search/submission?subreddit=investing&is_video=false&size=500&after=390d\n",
      "Querying from: https://api.pushshift.io/reddit/search/submission?subreddit=investing&is_video=false&size=500&after=391d\n",
      "Querying from: https://api.pushshift.io/reddit/search/submission?subreddit=investing&is_video=false&size=500&after=392d\n",
      "Querying from: https://api.pushshift.io/reddit/search/submission?subreddit=investing&is_video=false&size=500&after=393d\n",
      "Querying from: https://api.pushshift.io/reddit/search/submission?subreddit=investing&is_video=false&size=500&after=394d\n",
      "Querying from: https://api.pushshift.io/reddit/search/submission?subreddit=investing&is_video=false&size=500&after=395d\n",
      "Querying from: https://api.pushshift.io/reddit/search/submission?subreddit=investing&is_video=false&size=500&after=396d\n",
      "Querying from: https://api.pushshift.io/reddit/search/submission?subreddit=investing&is_video=false&size=500&after=397d\n",
      "Querying from: https://api.pushshift.io/reddit/search/submission?subreddit=investing&is_video=false&size=500&after=398d\n",
      "Querying from: https://api.pushshift.io/reddit/search/submission?subreddit=investing&is_video=false&size=500&after=399d\n",
      "Querying from: https://api.pushshift.io/reddit/search/submission?subreddit=investing&is_video=false&size=500&after=400d\n",
      "Query Complete!\n"
     ]
    }
   ],
   "source": [
    "df_investing = query_pushshift(subreddit = 'investing', day_window = 1, n = 400)"
   ]
  },
  {
   "cell_type": "code",
   "execution_count": 42,
   "metadata": {
    "scrolled": true
   },
   "outputs": [
    {
     "data": {
      "text/plain": [
       "(38931, 9)"
      ]
     },
     "execution_count": 42,
     "metadata": {},
     "output_type": "execute_result"
    }
   ],
   "source": [
    "df_investing.shape"
   ]
  },
  {
   "cell_type": "code",
   "execution_count": 51,
   "metadata": {
    "scrolled": false
   },
   "outputs": [
    {
     "data": {
      "text/plain": [
       "title               0\n",
       "selftext        10863\n",
       "subreddit           0\n",
       "created_utc         0\n",
       "author              0\n",
       "num_comments        0\n",
       "score               0\n",
       "is_self             0\n",
       "timestamp           0\n",
       "dtype: int64"
      ]
     },
     "execution_count": 51,
     "metadata": {},
     "output_type": "execute_result"
    }
   ],
   "source": [
    "df_investing.isna().sum()"
   ]
  },
  {
   "cell_type": "code",
   "execution_count": 58,
   "metadata": {},
   "outputs": [],
   "source": [
    "df_investing.drop(columns = ['is_self'], inplace=True)"
   ]
  },
  {
   "cell_type": "code",
   "execution_count": 59,
   "metadata": {
    "scrolled": true
   },
   "outputs": [
    {
     "data": {
      "text/plain": [
       "title             0\n",
       "selftext        464\n",
       "subreddit         0\n",
       "created_utc       0\n",
       "author            0\n",
       "num_comments      0\n",
       "score             0\n",
       "timestamp         0\n",
       "dtype: int64"
      ]
     },
     "execution_count": 59,
     "metadata": {},
     "output_type": "execute_result"
    }
   ],
   "source": [
    "df_investing.isna().sum()"
   ]
  },
  {
   "cell_type": "code",
   "execution_count": 60,
   "metadata": {},
   "outputs": [],
   "source": [
    "df_investing.dropna(inplace=True)"
   ]
  },
  {
   "cell_type": "markdown",
   "metadata": {},
   "source": [
    "### Cleaning up data nulls\n",
    "\n",
    "I dropped the null values because there were not very many in comparison to the number of total documents."
   ]
  },
  {
   "cell_type": "code",
   "execution_count": 67,
   "metadata": {},
   "outputs": [],
   "source": [
    "df_investing = df_investing[df_investing['selftext'] != '[removed]']"
   ]
  },
  {
   "cell_type": "markdown",
   "metadata": {},
   "source": [
    "### Cleaning up data with removed text\n",
    "\n",
    "About 40% or so of all 'selftext' values were ['removed']. I believe this is either a text that was removed or a reddit user that deleted the account. To make up for it I downloaded extra documents and eliminated the 'removed' values."
   ]
  },
  {
   "cell_type": "code",
   "execution_count": 68,
   "metadata": {},
   "outputs": [],
   "source": [
    "df_investing.to_csv('./data/investing.csv')"
   ]
  },
  {
   "cell_type": "code",
   "execution_count": 87,
   "metadata": {},
   "outputs": [
    {
     "data": {
      "text/plain": [
       "12644"
      ]
     },
     "execution_count": 87,
     "metadata": {},
     "output_type": "execute_result"
    }
   ],
   "source": [
    "df_wsb.shape[0]"
   ]
  },
  {
   "cell_type": "code",
   "execution_count": 82,
   "metadata": {
    "scrolled": true
   },
   "outputs": [
    {
     "data": {
      "text/plain": [
       "0.31057182157594815"
      ]
     },
     "execution_count": 82,
     "metadata": {},
     "output_type": "execute_result"
    }
   ],
   "source": [
    "df_wsb.shape[0]/(df_investing.shape[0] + df_wsb.shape[0])"
   ]
  },
  {
   "cell_type": "code",
   "execution_count": 83,
   "metadata": {},
   "outputs": [],
   "source": [
    "df_investing['post_word_count'] = df_investing['selftext'].str.count(' ') + 1\n",
    "df_wsb['post_word_count'] = df_wsb['selftext'].str.count(' ') + 1"
   ]
  },
  {
   "cell_type": "code",
   "execution_count": 85,
   "metadata": {},
   "outputs": [
    {
     "data": {
      "text/plain": [
       "count    12644.000000\n",
       "mean       114.833676\n",
       "std        225.848288\n",
       "min          1.000000\n",
       "25%         29.000000\n",
       "50%         57.000000\n",
       "75%        119.000000\n",
       "max       6748.000000\n",
       "Name: post_word_count, dtype: float64"
      ]
     },
     "execution_count": 85,
     "metadata": {},
     "output_type": "execute_result"
    }
   ],
   "source": [
    "df_wsb['post_word_count'].describe()"
   ]
  },
  {
   "cell_type": "code",
   "execution_count": 86,
   "metadata": {},
   "outputs": [
    {
     "data": {
      "text/plain": [
       "count    28068.000000\n",
       "mean       117.369389\n",
       "std        188.721193\n",
       "min          1.000000\n",
       "25%         43.000000\n",
       "50%         73.000000\n",
       "75%        128.000000\n",
       "max       4894.000000\n",
       "Name: post_word_count, dtype: float64"
      ]
     },
     "execution_count": 86,
     "metadata": {},
     "output_type": "execute_result"
    }
   ],
   "source": [
    "df_investing['post_word_count'].describe()"
   ]
  },
  {
   "cell_type": "markdown",
   "metadata": {},
   "source": [
    "I am not sure how much strictly analyzing based on word count in a post will help in classification... The mean word counts are pretty much the same; however the wallstreetbets subreddit does have more variation in size."
   ]
  },
  {
   "cell_type": "markdown",
   "metadata": {},
   "source": [
    "### There are about double the number of documents in r/investing. After cleaning the data more and before any modelling, I will remove rows as necessary to make the ratio closer to 50-50 and save the combined data set as a csv."
   ]
  },
  {
   "cell_type": "code",
   "execution_count": 95,
   "metadata": {},
   "outputs": [],
   "source": [
    "df_investing_trunc = df_investing.iloc[0:12644]"
   ]
  },
  {
   "cell_type": "code",
   "execution_count": 96,
   "metadata": {
    "scrolled": true
   },
   "outputs": [],
   "source": [
    "df_combined = pd.concat([df_investing_trunc, df_wsb], axis=0)"
   ]
  },
  {
   "cell_type": "code",
   "execution_count": 100,
   "metadata": {},
   "outputs": [],
   "source": [
    "df_combined.reset_index(inplace=True, drop=True)"
   ]
  },
  {
   "cell_type": "code",
   "execution_count": 105,
   "metadata": {},
   "outputs": [],
   "source": [
    "df_combined.to_csv('./data/combined.csv')"
   ]
  }
 ],
 "metadata": {
  "kernelspec": {
   "display_name": "Python 3",
   "language": "python",
   "name": "python3"
  },
  "language_info": {
   "codemirror_mode": {
    "name": "ipython",
    "version": 3
   },
   "file_extension": ".py",
   "mimetype": "text/x-python",
   "name": "python",
   "nbconvert_exporter": "python",
   "pygments_lexer": "ipython3",
   "version": "3.8.5"
  }
 },
 "nbformat": 4,
 "nbformat_minor": 4
}
